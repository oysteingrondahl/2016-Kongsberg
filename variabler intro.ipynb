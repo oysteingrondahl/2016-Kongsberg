{
 "cells": [
  {
   "cell_type": "markdown",
   "metadata": {},
   "source": [
    "# Variabler (introduksjon)\n",
    "Variabler er helt essensielle for programmering. Enkelt sagt kan vi bruke variabelens navn for å hente frem variabelens verdi, uansett hva verdien er. Dette gjør at vi kan skrive programmer som ikke alltid gir nøyaktig samme output. I dette dokumentet skal vi se på grunnleggende bruk av variabler. Den virkelige styrken blir tydeligere etter hvert som vi bruker variabler i alle andre sammenhenger senere.\n",
    "\n",
    "La oss se på eksempelet under. Vi kan se for oss at vi har gjort noen målinger, og så skal alle verdiene økes med 3. \"print()\"-funksjonen er forklart i et annet dokument, for øyeblikket bruker vi den som vist under hver gang vi skal vise noe på skjermen."
   ]
  },
  {
   "cell_type": "code",
   "execution_count": 1,
   "metadata": {
    "collapsed": false
   },
   "outputs": [
    {
     "name": "stdout",
     "output_type": "stream",
     "text": [
      "9\n",
      "10\n",
      "11\n",
      "12\n",
      "13\n",
      "14\n",
      "15\n",
      "16\n",
      "17\n",
      "18\n"
     ]
    }
   ],
   "source": [
    "print(3+6)\n",
    "print(3+7)\n",
    "print(3+8)\n",
    "print(3+9)\n",
    "print(3+10)\n",
    "print(3+11)\n",
    "print(3+12)\n",
    "print(3+13)\n",
    "print(3+14)\n",
    "print(3+15)"
   ]
  },
  {
   "cell_type": "markdown",
   "metadata": {},
   "source": [
    "Hva om vi nå ønsker å i stedet for å legge til 3 ønsker å legge til 4? Eller trekke i fra 3.5? (Husk at vi bruker punktum i desimaltall på engelsk.) Da må vi gå gjennom hele listen og endre linje for linje. Ved å bruke en variabel kan slike oppgaver forenkles. Først lager vi en variabel som heter \"nullpunkt\", og gir den verdien 3."
   ]
  },
  {
   "cell_type": "code",
   "execution_count": 4,
   "metadata": {
    "collapsed": true
   },
   "outputs": [],
   "source": [
    "nullpunkt = 3"
   ]
  },
  {
   "cell_type": "markdown",
   "metadata": {},
   "source": [
    "Deretter skriver vi linjene over på nytt, der vi skriver \"nullpunkt\" på alle stedene der det før sto 3."
   ]
  },
  {
   "cell_type": "code",
   "execution_count": 5,
   "metadata": {
    "collapsed": false
   },
   "outputs": [
    {
     "name": "stdout",
     "output_type": "stream",
     "text": [
      "9\n",
      "10\n",
      "11\n",
      "12\n",
      "13\n",
      "14\n",
      "15\n",
      "16\n",
      "17\n",
      "18\n"
     ]
    }
   ],
   "source": [
    "print(nullpunkt+6)\n",
    "print(nullpunkt+7)\n",
    "print(nullpunkt+8)\n",
    "print(nullpunkt+9)\n",
    "print(nullpunkt+10)\n",
    "print(nullpunkt+11)\n",
    "print(nullpunkt+12)\n",
    "print(nullpunkt+13)\n",
    "print(nullpunkt+14)\n",
    "print(nullpunkt+15)"
   ]
  },
  {
   "cell_type": "markdown",
   "metadata": {},
   "source": [
    "Nå ser dette kanskje mer tungvint ut, hver linje ble mye lengre enn den var. Men nå er det mye lettere å endre på noe. La oss endre verdien av nullpunktet til 4 og printe alle kommandoene på nytt."
   ]
  },
  {
   "cell_type": "code",
   "execution_count": 6,
   "metadata": {
    "collapsed": false
   },
   "outputs": [
    {
     "name": "stdout",
     "output_type": "stream",
     "text": [
      "10\n",
      "11\n",
      "12\n",
      "13\n",
      "14\n",
      "15\n",
      "16\n",
      "17\n",
      "18\n",
      "19\n"
     ]
    }
   ],
   "source": [
    "nullpunkt = 4\n",
    "print(nullpunkt+6)\n",
    "print(nullpunkt+7)\n",
    "print(nullpunkt+8)\n",
    "print(nullpunkt+9)\n",
    "print(nullpunkt+10)\n",
    "print(nullpunkt+11)\n",
    "print(nullpunkt+12)\n",
    "print(nullpunkt+13)\n",
    "print(nullpunkt+14)\n",
    "print(nullpunkt+15)"
   ]
  },
  {
   "cell_type": "markdown",
   "metadata": {},
   "source": [
    "Vi kan også bruke negative tall, desimaltall osv."
   ]
  },
  {
   "cell_type": "code",
   "execution_count": 8,
   "metadata": {
    "collapsed": false
   },
   "outputs": [
    {
     "name": "stdout",
     "output_type": "stream",
     "text": [
      "2.5\n",
      "3.5\n",
      "4.5\n",
      "5.5\n",
      "6.5\n",
      "7.5\n",
      "8.5\n",
      "9.5\n",
      "10.5\n",
      "11.5\n"
     ]
    }
   ],
   "source": [
    "nullpunkt = -3.5\n",
    "print(nullpunkt+6)\n",
    "print(nullpunkt+7)\n",
    "print(nullpunkt+8)\n",
    "print(nullpunkt+9)\n",
    "print(nullpunkt+10)\n",
    "print(nullpunkt+11)\n",
    "print(nullpunkt+12)\n",
    "print(nullpunkt+13)\n",
    "print(nullpunkt+14)\n",
    "print(nullpunkt+15)"
   ]
  },
  {
   "cell_type": "markdown",
   "metadata": {},
   "source": [
    "Nå holder det å endre en linje for at alle de andre linjene skal endres indirekte. I tillegg bruker vi variabler for å lagre verdier for å kunne bruke dem videre et nytt sted. Det er litt som å bruke \"ans\" på kalkulatoren når vi regner for hånd, men vi kan bruke flere tidligere resultater, ikke bare det aller siste. Under er et eksempel til og to øvingsoppgaver."
   ]
  },
  {
   "cell_type": "code",
   "execution_count": 11,
   "metadata": {
    "collapsed": false
   },
   "outputs": [
    {
     "name": "stdout",
     "output_type": "stream",
     "text": [
      "36\n"
     ]
    }
   ],
   "source": [
    "a = 4 # Variabelen \"a\" får verdien 4\n",
    "b = 9 # Variabelen \"b\" får verdien 9\n",
    "c = a * b # Variabelen \"c\" får en verdi som er lik produktet av verdien til \"a\" og verdien til \"b\".\n",
    "a = 5 # Variabelen \"a\" får verdien 5\n",
    "print(c) # Verdien av c ble bestemt før a endret verdi."
   ]
  },
  {
   "cell_type": "markdown",
   "metadata": {},
   "source": [
    "Øving: Tenk over hva som vil printes dersom følgende kommandoer kjøres. Når du har tenkt over det og skrevet ned resultatet, kjør kommandoene i en ny celle.\n",
    "* a = 3\n",
    "* b = -2\n",
    "* c = a - 2*b\n",
    "* b = a + 2*c\n",
    "* a = b - a + c\n",
    "* print(a)\n",
    "* print(b)\n",
    "* print(c)"
   ]
  },
  {
   "cell_type": "code",
   "execution_count": null,
   "metadata": {
    "collapsed": true
   },
   "outputs": [],
   "source": []
  },
  {
   "cell_type": "markdown",
   "metadata": {},
   "source": [
    "Øving: Tenk over hva som vil printes dersom følgende kommandoer kjøres. Når du har tenkt over det og skrevet ned resultatet, kjør kommandoene i en ny celle.\n",
    "* a = 2\n",
    "* b = 5\n",
    "* c = 0\n",
    "* d = b - 3*a\n",
    "* e = a - 2*(c + 1)\n",
    "* a = a + 3 - b*c\n",
    "* b = a + 2*d\n",
    "* f = d - a + c\n",
    "* e = a*b*d\n",
    "* d = d*e\n",
    "* c = d - e\n",
    "* print(a)\n",
    "* print(b)\n",
    "* print(c)\n",
    "* print(d)\n",
    "* print(e)\n",
    "* print(f)"
   ]
  },
  {
   "cell_type": "code",
   "execution_count": null,
   "metadata": {
    "collapsed": true
   },
   "outputs": [],
   "source": []
  },
  {
   "cell_type": "markdown",
   "metadata": {},
   "source": [
    "# Regler for variabelnavn i Python\n",
    "Alle variabelnavn må begynne med en bokstav eller en underscore. Resten av navnet kan være bokstaver, underscores og tall. Det betyr noe om du bruker små eller store bokstaver. Navnene \"variabelnavn\" og \"Variabelnavn\" er ulike.\n",
    "\n",
    "I Python anbefales det at man bruker deskriptive variabelnavn med små bokstaver og underscores.\n",
    "\n",
    "Gode variabelnavn er:\n",
    "* dumme_vitser\n",
    "* stygge_hunder\n",
    "\n",
    "Dårlige variabelnavn er:\n",
    "* l\n",
    "* detteervariabelnavnetmittogdeteruleselig\n",
    "\n",
    "(Er det et 1-tall? Er det en liten L? Er det en stor i?)"
   ]
  },
  {
   "cell_type": "markdown",
   "metadata": {},
   "source": [
    "# Vanlige feil ved bruk av variabler\n",
    "Her er noen vanlige feil som er greit å være bevisst, så det blir lettere å unngå å gjøre dem selv.\n",
    "\n",
    "Pass på om du bruker store bokstaver eller ikke i variabelnavnene.\n",
    "\n",
    "Pass på at du staver ordene dine rett. Det går ann å kalle variabelen sin styyge_hudner, men det er lettere neste gang man skal bruke variabelen dersom man skriver ordene slik de står i ordboken.\n",
    "\n",
    "Alle variabler må defineres før de kan brukes. Det innebærer at de må stå høyere opp i koden enn linjen der man prøver å bruke den.\n",
    "\n",
    "\n",
    "Man må alltid absolutt alltid uten unntak skrive varname = verdi, ikke verdi = varname. Pass på at variabelnavnet står på venstre side av likhetstegnet."
   ]
  },
  {
   "cell_type": "markdown",
   "metadata": {},
   "source": [
    "Øving: Skriv kode som gjør alle feilene nevnt over."
   ]
  },
  {
   "cell_type": "code",
   "execution_count": null,
   "metadata": {
    "collapsed": true
   },
   "outputs": [],
   "source": []
  }
 ],
 "metadata": {
  "kernelspec": {
   "display_name": "Python [Root]",
   "language": "python",
   "name": "Python [Root]"
  },
  "language_info": {
   "codemirror_mode": {
    "name": "ipython",
    "version": 3
   },
   "file_extension": ".py",
   "mimetype": "text/x-python",
   "name": "python",
   "nbconvert_exporter": "python",
   "pygments_lexer": "ipython3",
   "version": "3.5.1"
  }
 },
 "nbformat": 4,
 "nbformat_minor": 0
}
