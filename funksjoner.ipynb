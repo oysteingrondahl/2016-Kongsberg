{
 "cells": [
  {
   "cell_type": "markdown",
   "metadata": {},
   "source": [
    "# Funksjoner (functions)\n",
    "Funksjoner er veldig nyttige hvis vi skal gjenta handlinger flere ganger, men ikke rett etter hverandre. I tillegg kan funksjoner gjøre forskjellige ting avhengig av hva vi gir som input. Det vil være tydeligere hvordan funksjoner er forskjellige fra løkker når vi ser på hvordan de virker.\n",
    "\n",
    "Eksempler på funksjoner vi allerede kjenner er sin(x), abs(x) osv. Disse utfører et sett med handlinger, beregner en verdi avhengig av inputen vår, og så gir de oss resultatet tilbake."
   ]
  },
  {
   "cell_type": "markdown",
   "metadata": {},
   "source": [
    "Den generelle strukturen for en funksjon er som vist under:\n",
    "\n",
    "> def funksjonsnavn(input1, input2, ..., inputN):\n",
    "\n",
    ">     ''' Hjelpetekst til brukeren. '''\n",
    "\n",
    ">     handling1\n",
    "\n",
    ">     handling2\n",
    "\n",
    ">     handling3 osv.\n",
    "\n",
    ">     return(output1, output2, ..., outputN)\n",
    "\n",
    "Vi må definere (def) funksjonen. Vi gir den et navn, forteller hvilke inputs den tar imot. Deretter skriver vi en hjelpetekst til brukeren av funksjonen, forteller hvordan funksjonen virker. Deretter følger handlingene funksjonen skal utføre, og til slutt returneres output fra funksjonen til brukeren. Legg merke til at alle linjene etter den første står med innrykk. Dersom man har løkker eller if-else-strukturer i tillegg blir det enda flere innrykk. Det lønner seg å ikke lage for mange nivåer."
   ]
  },
  {
   "cell_type": "markdown",
   "metadata": {},
   "source": [
    "La oss begynne med funksjoner som alltid gjør det samme når de kjøres, altså en funksjon uten input. Først defineres funksjonen. Deretter kjøres den på linje 4. Når vi kjører eller \"kaller\" en funksjon i Python MÅ vi ha parentesen der, selv om vi ikke gir noen inputs. Prøv å kjøre funksjonen uten parentesen."
   ]
  },
  {
   "cell_type": "code",
   "execution_count": 5,
   "metadata": {
    "collapsed": false
   },
   "outputs": [
    {
     "name": "stdout",
     "output_type": "stream",
     "text": [
      "Hei Øystein!\n"
     ]
    }
   ],
   "source": [
    "def sihei():\n",
    "    print('Hei Øystein!')\n",
    "\n",
    "sihei()"
   ]
  },
  {
   "cell_type": "markdown",
   "metadata": {},
   "source": [
    "Dette er litt klønete, hva med de som ikke heter Øystein? Det er litt rart å hilse med feil navn. Vi kan ta imot en input fra brukeren som kjører funksjonen."
   ]
  },
  {
   "cell_type": "code",
   "execution_count": 11,
   "metadata": {
    "collapsed": false
   },
   "outputs": [
    {
     "name": "stdout",
     "output_type": "stream",
     "text": [
      "Hei Øystine!\n"
     ]
    }
   ],
   "source": [
    "def sihei2(navn):\n",
    "    print('Hei', navn + '!')\n",
    "\n",
    "sihei2('Øystine')"
   ]
  },
  {
   "cell_type": "markdown",
   "metadata": {},
   "source": [
    "Øving: I neste celle, skriv en funksjon som printer en beskjed på skjermen. I cellen etter, kall funksjonen (kjør funksjonen)."
   ]
  },
  {
   "cell_type": "code",
   "execution_count": null,
   "metadata": {
    "collapsed": true
   },
   "outputs": [],
   "source": []
  },
  {
   "cell_type": "code",
   "execution_count": null,
   "metadata": {
    "collapsed": true
   },
   "outputs": [],
   "source": []
  },
  {
   "cell_type": "markdown",
   "metadata": {},
   "source": [
    "## Bruke verdier som funksjoner beregner\n",
    "La oss se på en funksjon som beregner gjennomsnittet av to tall som vi gir som input."
   ]
  },
  {
   "cell_type": "code",
   "execution_count": 25,
   "metadata": {
    "collapsed": true
   },
   "outputs": [],
   "source": [
    "def gjennomsnitt(tall1, tall2):\n",
    "    print((tall1+tall2)/2)"
   ]
  },
  {
   "cell_type": "code",
   "execution_count": 26,
   "metadata": {
    "collapsed": false
   },
   "outputs": [
    {
     "name": "stdout",
     "output_type": "stream",
     "text": [
      "-1.0\n",
      "8.0\n"
     ]
    }
   ],
   "source": [
    "gjennomsnitt(-5, 3)\n",
    "gjennomsnitt(6, 10)"
   ]
  },
  {
   "cell_type": "markdown",
   "metadata": {},
   "source": [
    "Ser greit ut. La oss nå bruke tallene funksjonen vår gir oss. F.eks. finne gjennomsnittet av de to gjennomsnittene. Men.. hvordan? Skal vi skrive av tallene? Markere dem med musa og kopiere og lime dem inn?\n",
    "\n",
    "Når vi skriver funksjoner som produserer noe vi vil bruke senere må vi bruke \"return\"-kommandoen, ikke \"print\"-kommandoen. Printer vi noe på skjermen er det å anse som tapt. Hvis vi vil bruke det må vi returnere det."
   ]
  },
  {
   "cell_type": "code",
   "execution_count": 27,
   "metadata": {
    "collapsed": true
   },
   "outputs": [],
   "source": [
    "def gjennomsnitt(tall1, tall2):\n",
    "    return((tall1+tall2)/2)"
   ]
  },
  {
   "cell_type": "code",
   "execution_count": 28,
   "metadata": {
    "collapsed": false
   },
   "outputs": [
    {
     "data": {
      "text/plain": [
       "8.0"
      ]
     },
     "execution_count": 28,
     "metadata": {},
     "output_type": "execute_result"
    }
   ],
   "source": [
    "gjennomsnitt(-5, 3)\n",
    "gjennomsnitt(6, 10)"
   ]
  },
  {
   "cell_type": "markdown",
   "metadata": {},
   "source": [
    "Hva gikk galt nå? Bare en av de to verdiene som ble beregnet vises her. Hvor ble det av den første? Og hvordan skal vi kunne bruke disse? Den ene verdien ble ennå bare skrevet på skjermen. Selv om vi bruker return er det ikke nok. Vi må også fange opp det funksjonen prøver å returnere til oss og lagre det i en eller flere variabler."
   ]
  },
  {
   "cell_type": "code",
   "execution_count": 29,
   "metadata": {
    "collapsed": false
   },
   "outputs": [
    {
     "name": "stdout",
     "output_type": "stream",
     "text": [
      "-1.0 8.0\n",
      "3.5\n"
     ]
    }
   ],
   "source": [
    "a = gjennomsnitt(-5, 3)\n",
    "b = gjennomsnitt(6, 10)\n",
    "print(a, b)\n",
    "c = gjennomsnitt(a, b)\n",
    "print(c)"
   ]
  },
  {
   "cell_type": "markdown",
   "metadata": {},
   "source": [
    "Vi må vite hva funksjonen returnerer, slik at vi kan fange opp verdien(e) som ønsket. Vi kan returnere flere verdier, som vist under."
   ]
  },
  {
   "cell_type": "code",
   "execution_count": 30,
   "metadata": {
    "collapsed": true
   },
   "outputs": [],
   "source": [
    "def gjennomsnitt2(tall1, tall2):\n",
    "    snittet = (tall1+tall2)/2\n",
    "    summen = tall1+tall2\n",
    "    return(snittet, summen)"
   ]
  },
  {
   "cell_type": "code",
   "execution_count": 34,
   "metadata": {
    "collapsed": false
   },
   "outputs": [
    {
     "name": "stdout",
     "output_type": "stream",
     "text": [
      "-1.0 -2\n"
     ]
    }
   ],
   "source": [
    "a, b = gjennomsnitt2(-5, 3)\n",
    "print(a, b)"
   ]
  },
  {
   "cell_type": "markdown",
   "metadata": {
    "collapsed": true
   },
   "source": [
    "Øving: Skriv en funksjon som tar imot to strenger som inputs og returnerer en streng satt sammen av den første halvparten fra den første strengen og den andre halvparten av den andre strengen. Test funksjonen ved å kjøre den fra cellen etter."
   ]
  },
  {
   "cell_type": "code",
   "execution_count": null,
   "metadata": {
    "collapsed": true
   },
   "outputs": [],
   "source": []
  },
  {
   "cell_type": "code",
   "execution_count": null,
   "metadata": {
    "collapsed": true
   },
   "outputs": [],
   "source": []
  },
  {
   "cell_type": "markdown",
   "metadata": {},
   "source": [
    "## Forhåndsbestemte inputs (default inputs)\n",
    "Dersom vi omtrent alltid vil at en input skal ha en bestemt verdi, men brukeren skal kunne overstyre og gi en annen verdi ved behov kan vi bruke default inputs. Disse må være sist i oppramsingen av inputs. Se skrivemåte i eksemplet under."
   ]
  },
  {
   "cell_type": "code",
   "execution_count": 37,
   "metadata": {
    "collapsed": false
   },
   "outputs": [],
   "source": [
    "def multiplikasjon(tall1, tall2):\n",
    "    produktet = tall1*tall2\n",
    "    return(produktet, tall1, tall2)\n",
    "\n",
    "def multiplikasjon3(tall1, tall2, tall3=1):\n",
    "    produktet = tall1 * tall2 * tall3\n",
    "    return(produktet)\n",
    "\n",
    "def divisjon2(tall1, tall2, tall3=2, tall4=5):\n",
    "    kvotient1 = tall1 / tall2\n",
    "    kvotient2 = tall3/tall4\n",
    "    return(kvotient1, kvotient2)"
   ]
  },
  {
   "cell_type": "code",
   "execution_count": 40,
   "metadata": {
    "collapsed": false
   },
   "outputs": [
    {
     "name": "stdout",
     "output_type": "stream",
     "text": [
      "15 3 5\n",
      "12\n",
      "48\n",
      "2.0 0.4\n",
      "2.0 0.5\n"
     ]
    }
   ],
   "source": [
    "a, b, c = multiplikasjon(3, 5)\n",
    "print(a, b, c)\n",
    "d = multiplikasjon3(2, 6)\n",
    "print(d)\n",
    "e = multiplikasjon3(2, 6, 4)\n",
    "print(e)\n",
    "f, g = divisjon2(6, 3)\n",
    "print(f, g)\n",
    "h, i = divisjon2(6, 3, tall4=4)\n",
    "print(h, i)"
   ]
  },
  {
   "cell_type": "markdown",
   "metadata": {},
   "source": [
    "I eksemplene over ser du hvordan vi kan gi verdier for default inputs. Legg særlig merke til at vi i det siste eksemplet kunne overskrive tall4 uten å si noe om tall3 i det hele tatt."
   ]
  },
  {
   "cell_type": "markdown",
   "metadata": {},
   "source": [
    "Øving: Skriv en funksjon som tar imot et heltall som input (du trenger ikke kontrollere at inputen er et heltall) og som printer tallet, deretter tallet+1, tallet+2, osv. til og med tallet+12."
   ]
  },
  {
   "cell_type": "code",
   "execution_count": null,
   "metadata": {
    "collapsed": true
   },
   "outputs": [],
   "source": []
  },
  {
   "cell_type": "code",
   "execution_count": null,
   "metadata": {
    "collapsed": true
   },
   "outputs": [],
   "source": []
  },
  {
   "cell_type": "markdown",
   "metadata": {},
   "source": [
    "Øving: Skriv en funksjon som tar imot et heltall som input (du trenger ikke kontrollere at inputen er et heltall) og som øker verdien av tallet med 1 og 1 til verdien er dobbelt så stor som inputen var. Print alle verdiene på veien."
   ]
  },
  {
   "cell_type": "code",
   "execution_count": null,
   "metadata": {
    "collapsed": true
   },
   "outputs": [],
   "source": []
  },
  {
   "cell_type": "code",
   "execution_count": null,
   "metadata": {
    "collapsed": true
   },
   "outputs": [],
   "source": []
  },
  {
   "cell_type": "markdown",
   "metadata": {},
   "source": [
    "Øving: Skriv en funksjon som tar imot et positivt heltall som input (du trenger ikke kontrollere at inputen er et positivt heltall) og som øker verdien av tallet med 1 og 1 til verdien er dobbelt så stor som inputen var. Print hver tredje verdi på veien."
   ]
  },
  {
   "cell_type": "code",
   "execution_count": null,
   "metadata": {
    "collapsed": true
   },
   "outputs": [],
   "source": []
  },
  {
   "cell_type": "code",
   "execution_count": null,
   "metadata": {
    "collapsed": true
   },
   "outputs": [],
   "source": []
  },
  {
   "cell_type": "markdown",
   "metadata": {},
   "source": [
    "Øving: Skriv en funksjon som tar imot et heltall som input (du trenger ikke kontrollere at inputen er et heltall). Dersom tallet er negativt skal du telle opp til 0 og printe hver fjerde verdi på veien. Dersom tallet er positivt skal du telle ned til 0 og printe hver andre verdi på veien. Dersom tallet er 0 skal du printe en egen beskjed om dette."
   ]
  },
  {
   "cell_type": "code",
   "execution_count": null,
   "metadata": {
    "collapsed": true
   },
   "outputs": [],
   "source": []
  },
  {
   "cell_type": "code",
   "execution_count": null,
   "metadata": {
    "collapsed": true
   },
   "outputs": [],
   "source": []
  },
  {
   "cell_type": "markdown",
   "metadata": {},
   "source": [
    "## Hjelpetekst til funksjoner\n",
    "Hvis vi skriver funksjoner som andre skal bruke er det viktig å fortelle dem hvordan funksjonene våre skal brukes. Hvis vi skriver funksjoner som bare vi skal bruke er det viktig å fortelle de fremtidige oss hvordan funksjonene våre skal brukes. Dere tror dere kan huske hva funksjonene deres gjør, men det kommer dere ikke til å huske. Aksepter det med en gang og lær dere å skrive gode hjelpetekster.\n",
    "\n",
    "En ting er å bare forklare hva funksjonene gjør overordnet, men vi bør også kommentere hva deler av funksjonene gjør med \"kommentarer\". Akkurat nå skal vi bare se på overordnet hjelpetekst.\n",
    "\n",
    "For å forstå behovet, la oss se på hjelpeteksten til noen av de innebygde elementene i Python. Først ser vi hjelpeteksten til klassen list. Hjelpeteksten forteller hvordan vi kan lage lister og alle metodene/funksjonene vi kan bruke på lister. Vi kunne selvfølgelig slått opp i dokumentasjonen på nettsidene, men det er greit å ha det tilgjengelig. Og husk, for programmer dere skriver er det ikke sikkert at det finnes en egen nettsiden med dokumentasjon, og skal det finnes, så må dere likevel skrive hjelpeteksten."
   ]
  },
  {
   "cell_type": "code",
   "execution_count": 45,
   "metadata": {
    "collapsed": false,
    "scrolled": true
   },
   "outputs": [
    {
     "name": "stdout",
     "output_type": "stream",
     "text": [
      "Help on class list in module builtins:\n",
      "\n",
      "class list(object)\n",
      " |  list() -> new empty list\n",
      " |  list(iterable) -> new list initialized from iterable's items\n",
      " |  \n",
      " |  Methods defined here:\n",
      " |  \n",
      " |  __add__(self, value, /)\n",
      " |      Return self+value.\n",
      " |  \n",
      " |  __contains__(self, key, /)\n",
      " |      Return key in self.\n",
      " |  \n",
      " |  __delitem__(self, key, /)\n",
      " |      Delete self[key].\n",
      " |  \n",
      " |  __eq__(self, value, /)\n",
      " |      Return self==value.\n",
      " |  \n",
      " |  __ge__(self, value, /)\n",
      " |      Return self>=value.\n",
      " |  \n",
      " |  __getattribute__(self, name, /)\n",
      " |      Return getattr(self, name).\n",
      " |  \n",
      " |  __getitem__(...)\n",
      " |      x.__getitem__(y) <==> x[y]\n",
      " |  \n",
      " |  __gt__(self, value, /)\n",
      " |      Return self>value.\n",
      " |  \n",
      " |  __iadd__(self, value, /)\n",
      " |      Implement self+=value.\n",
      " |  \n",
      " |  __imul__(self, value, /)\n",
      " |      Implement self*=value.\n",
      " |  \n",
      " |  __init__(self, /, *args, **kwargs)\n",
      " |      Initialize self.  See help(type(self)) for accurate signature.\n",
      " |  \n",
      " |  __iter__(self, /)\n",
      " |      Implement iter(self).\n",
      " |  \n",
      " |  __le__(self, value, /)\n",
      " |      Return self<=value.\n",
      " |  \n",
      " |  __len__(self, /)\n",
      " |      Return len(self).\n",
      " |  \n",
      " |  __lt__(self, value, /)\n",
      " |      Return self<value.\n",
      " |  \n",
      " |  __mul__(self, value, /)\n",
      " |      Return self*value.n\n",
      " |  \n",
      " |  __ne__(self, value, /)\n",
      " |      Return self!=value.\n",
      " |  \n",
      " |  __new__(*args, **kwargs) from builtins.type\n",
      " |      Create and return a new object.  See help(type) for accurate signature.\n",
      " |  \n",
      " |  __repr__(self, /)\n",
      " |      Return repr(self).\n",
      " |  \n",
      " |  __reversed__(...)\n",
      " |      L.__reversed__() -- return a reverse iterator over the list\n",
      " |  \n",
      " |  __rmul__(self, value, /)\n",
      " |      Return self*value.\n",
      " |  \n",
      " |  __setitem__(self, key, value, /)\n",
      " |      Set self[key] to value.\n",
      " |  \n",
      " |  __sizeof__(...)\n",
      " |      L.__sizeof__() -- size of L in memory, in bytes\n",
      " |  \n",
      " |  append(...)\n",
      " |      L.append(object) -> None -- append object to end\n",
      " |  \n",
      " |  clear(...)\n",
      " |      L.clear() -> None -- remove all items from L\n",
      " |  \n",
      " |  copy(...)\n",
      " |      L.copy() -> list -- a shallow copy of L\n",
      " |  \n",
      " |  count(...)\n",
      " |      L.count(value) -> integer -- return number of occurrences of value\n",
      " |  \n",
      " |  extend(...)\n",
      " |      L.extend(iterable) -> None -- extend list by appending elements from the iterable\n",
      " |  \n",
      " |  index(...)\n",
      " |      L.index(value, [start, [stop]]) -> integer -- return first index of value.\n",
      " |      Raises ValueError if the value is not present.\n",
      " |  \n",
      " |  insert(...)\n",
      " |      L.insert(index, object) -- insert object before index\n",
      " |  \n",
      " |  pop(...)\n",
      " |      L.pop([index]) -> item -- remove and return item at index (default last).\n",
      " |      Raises IndexError if list is empty or index is out of range.\n",
      " |  \n",
      " |  remove(...)\n",
      " |      L.remove(value) -> None -- remove first occurrence of value.\n",
      " |      Raises ValueError if the value is not present.\n",
      " |  \n",
      " |  reverse(...)\n",
      " |      L.reverse() -- reverse *IN PLACE*\n",
      " |  \n",
      " |  sort(...)\n",
      " |      L.sort(key=None, reverse=False) -> None -- stable sort *IN PLACE*\n",
      " |  \n",
      " |  ----------------------------------------------------------------------\n",
      " |  Data and other attributes defined here:\n",
      " |  \n",
      " |  __hash__ = None\n",
      "\n"
     ]
    }
   ],
   "source": [
    "help(list)"
   ]
  },
  {
   "cell_type": "markdown",
   "metadata": {},
   "source": [
    "La oss se nærmere på en av metodene som kan brukes på lister. Jeg har valgt å se på index-metoden. Denne metoden brukes for å finne første index der en gitt verdi (et gitt element) finnes i listen. Her ser vi også at det finnes optional arguments, valgfrie inputs. I hjelpeteksten til Python er de valgfrie inputene skrevet innenfor klammer/firkantparenteser. Vi kan altså velge å søke etter første forekomst av et gitt element etter en viss index, og vi kan også velge å sette på en stopp-index for å ikke se etter elementet etter en gitt verdi. Dette kan være nyttig, det var fint at vi fant ut ved å lese denne teksten."
   ]
  },
  {
   "cell_type": "code",
   "execution_count": 46,
   "metadata": {
    "collapsed": false
   },
   "outputs": [
    {
     "name": "stdout",
     "output_type": "stream",
     "text": [
      "Help on method_descriptor:\n",
      "\n",
      "index(...)\n",
      "    L.index(value, [start, [stop]]) -> integer -- return first index of value.\n",
      "    Raises ValueError if the value is not present.\n",
      "\n"
     ]
    }
   ],
   "source": [
    "help(list.index)"
   ]
  },
  {
   "cell_type": "markdown",
   "metadata": {},
   "source": [
    "Nå skal vi skrive hjelpetekst for en av våre egne funksjoner. Vi skal forklare både hvor mange inputs den tar og hvilken type hver input skal være. Vi skal forklare hva den returnerer, altså antall outputs og type på hver output. Vi skal også forklare hva den egentlig gjør for noe med inputene for å generere outputene. For å gjøre hjelpeteksten komplett skal vi også gi to-tre eksempler på input og output."
   ]
  },
  {
   "cell_type": "code",
   "execution_count": 56,
   "metadata": {
    "collapsed": false
   },
   "outputs": [],
   "source": [
    "def trelike(inn1, inn2, inn3):\n",
    "    \"\"\"\n",
    "    trelike(arg1, arg2, arg3) -> Boolean value (True or False) -- check if three different values are equal.\n",
    "    If the elements are lists, check if any of the values in list1 exists in both list2 and list3.\n",
    "    If both matches, return True. Else, return False.\n",
    "\n",
    "    Funksjonen tar tre inputs og sammenlikner de parvis. Hvis alle tre er like returneres True, ellers False.\n",
    "    Hvis alle tre inputs er lister skal vi ikke sjekke om listene er like, men om noen av elementene i dem finnes\n",
    "    i alle tre listene.\n",
    "    \n",
    "    Testcase1:\n",
    "    trelike('hei', 'Hei', 'hei') -> False\n",
    "    \n",
    "    Testcase2:\n",
    "    trelike(42, 42, 42) -> True\n",
    "    \n",
    "    Testcase3:\n",
    "    trelike([3, 5, 4, 3, 2, 6, 8, 9], [1, 2, 3], [0, 1]) -> False\n",
    "    \n",
    "    Testcase4:\n",
    "    trelike([3, 5, 4, 3, 2, 6, 1, 9], [1, 2, 3], [0, 1]) -> False\n",
    "    \n",
    "    \"\"\"\n",
    "    \n",
    "    if type(inn1) == type(inn2) == type(inn3) == list:\n",
    "        truthiness = False\n",
    "        for element in inn1:\n",
    "            if element in inn2 and element in inn3:\n",
    "                truthiness = True\n",
    "                break\n",
    "    \n",
    "    else:\n",
    "        if inn1 != inn2:\n",
    "            truthiness = False\n",
    "        elif inn1 != inn3:\n",
    "            truthiness = False\n",
    "        elif inn2 != inn3:\n",
    "            truthiness = False\n",
    "        else:\n",
    "            truthiness = True\n",
    "    \n",
    "    return truthiness"
   ]
  },
  {
   "cell_type": "markdown",
   "metadata": {},
   "source": [
    "Hjelpeteksten er alt vi skriver mellom 3 sitattegn med en gang under definisjons-linjen. Når vi lager funksjonene våre bør vi faktisk begynne med å skrive all denne hjelpeteksten, inkludert testcasene, før vi begynner å skrive noe kode. Dette hjelper oss med å vite hva vi egentlig ønsker at funksjonen skal gjøre, og det blir lettere å skrive koden når vi har bestemt oss for hva vi egentlig vil at den skal gjøre. Prøv nå å skrive help() i cellen under."
   ]
  },
  {
   "cell_type": "code",
   "execution_count": 57,
   "metadata": {
    "collapsed": false
   },
   "outputs": [
    {
     "name": "stdout",
     "output_type": "stream",
     "text": [
      "Help on function trelike in module __main__:\n",
      "\n",
      "trelike(inn1, inn2, inn3)\n",
      "    trelike(arg1, arg2, arg3) -> Boolean value (True or False) -- check if three different values are equal.\n",
      "    If the elements are lists, check if any of the values in list1 exists in both list2 and list3.\n",
      "    If both matches, return True. Else, return False.\n",
      "    \n",
      "    Funksjonen tar tre inputs og sammenlikner de parvis. Hvis alle tre er like returneres True, ellers False.\n",
      "    Hvis alle tre inputs er lister skal vi ikke sjekke om listene er like, men om noen av elementene i dem finnes\n",
      "    i alle tre listene.\n",
      "    \n",
      "    Testcase1:\n",
      "    trelike('hei', 'Hei', 'hei') -> False\n",
      "    \n",
      "    Testcase2:\n",
      "    trelike(42, 42, 42) -> True\n",
      "    \n",
      "    Testcase3:\n",
      "    trelike([3, 5, 4, 3, 2, 6, 8, 9], [1, 2, 3], [0, 1]) -> False\n",
      "    \n",
      "    Testcase4:\n",
      "    trelike([3, 5, 4, 3, 2, 6, 1, 9], [1, 2, 3], [0, 1]) -> False\n",
      "\n"
     ]
    }
   ],
   "source": [
    "help(trelike)"
   ]
  },
  {
   "cell_type": "markdown",
   "metadata": {
    "collapsed": true
   },
   "source": [
    "# Ekstra materiale"
   ]
  },
  {
   "cell_type": "code",
   "execution_count": null,
   "metadata": {
    "collapsed": true
   },
   "outputs": [],
   "source": [
    "rekursiv funksjon"
   ]
  },
  {
   "cell_type": "code",
   "execution_count": null,
   "metadata": {
    "collapsed": true
   },
   "outputs": [],
   "source": [
    "global variable, kortpoeng"
   ]
  },
  {
   "cell_type": "code",
   "execution_count": null,
   "metadata": {
    "collapsed": true
   },
   "outputs": [],
   "source": [
    "lambda funksjoner\n",
    "Lambda Functions\n",
    "These are small functions which are not defined with any name and carry a single expression whose result is returned. Lambda functions comes very handy when operating with lists. These function are defined by the keyword lambda followed by the variables, a colon and the respective expression.\n",
    "\n",
    "In [30]:\n",
    "z = lambda x: x * x\n",
    "In [31]:\n",
    "z(8)\n",
    "Out[31]:\n",
    "64"
   ]
  }
 ],
 "metadata": {
  "anaconda-cloud": {},
  "kernelspec": {
   "display_name": "Python [Root]",
   "language": "python",
   "name": "Python [Root]"
  },
  "language_info": {
   "codemirror_mode": {
    "name": "ipython",
    "version": 3
   },
   "file_extension": ".py",
   "mimetype": "text/x-python",
   "name": "python",
   "nbconvert_exporter": "python",
   "pygments_lexer": "ipython3",
   "version": "3.5.1"
  }
 },
 "nbformat": 4,
 "nbformat_minor": 0
}
