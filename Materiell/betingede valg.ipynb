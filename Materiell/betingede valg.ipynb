{
 "cells": [
  {
   "cell_type": "markdown",
   "metadata": {},
   "source": [
    "# Betingede valg (if-else-strukturer)\n",
    "If-else-strukturer brukes dersom ulike handlinger skal utføres avhengig av et systems tilstand (en eller flere variablers verdier). Vi skal nå bruke sammenlikninger og logiske utsagn for å sjekke om noe er sant eller usant, og avhengig av det utføre noe eller noe annet. Dette kjenner vi fra hverdagen som situasjoner der vi gjør noe dersom noe er tilfelle, og ellers noe annet. F.eks. \"Hvis det er rotete hjemme skal jeg rydde\", \"Hvis det er en ukedag og ikke ferie går jeg på skolen, ellers har jeg fri\", \"Hvis det er igjen sjokoladeis spiser jeg den, ellers, hvis det er igjen jordbæris spiser jeg den, ellers går jeg i butikken og kjøper mer is\". Det generelle mønsteret er \"hvis [noe], så [handling]\" og varianter av dette.\n",
    "\n",
    "Det finnes tre typer if-else-strukturer. Alle typene starter med \"if\", forskjellen er hvordan de fortsetter. Vi ser på disse en etter en i teksten under."
   ]
  },
  {
   "cell_type": "markdown",
   "metadata": {},
   "source": [
    "## If\n",
    "Dette er strukturer med formen \"hvis [noe], så [handling]\". Legg merke til at linjen med \"if\" MÅ avsluttes med kolon, og de handlingene som skal utføres MÅ stå med et innrykk på følgende linje. Innrykket får man automatisk hvis man skriver rett, ellers kan man trykke på \"tab\" på tastaturet."
   ]
  },
  {
   "cell_type": "code",
   "execution_count": 3,
   "metadata": {
    "collapsed": false
   },
   "outputs": [
    {
     "name": "stdout",
     "output_type": "stream",
     "text": [
      "Det er rotete!\n",
      "Du må rydde!\n"
     ]
    }
   ],
   "source": [
    "hjemme = 'rotete'\n",
    "\n",
    "if hjemme == 'rotete':\n",
    "    print('Det er rotete!')\n",
    "print('Du må rydde!')"
   ]
  },
  {
   "cell_type": "markdown",
   "metadata": {},
   "source": [
    "Legg merke til at \"print('Du må rydde!')\" står uten innrykk. Det innebærer at den linjen vil kjøres hver gang, uavhengig av om hjemme == 'rotete' eller ikke. Det blir tydelig i eksempelet under."
   ]
  },
  {
   "cell_type": "code",
   "execution_count": 4,
   "metadata": {
    "collapsed": false
   },
   "outputs": [
    {
     "name": "stdout",
     "output_type": "stream",
     "text": [
      "Du må rydde!\n"
     ]
    }
   ],
   "source": [
    "hjemme = 'ryddig'\n",
    "\n",
    "if hjemme == 'rotete':\n",
    "    print('Det er rotete!')\n",
    "print('Du må rydde!')"
   ]
  },
  {
   "cell_type": "markdown",
   "metadata": {},
   "source": [
    "For at det skal bli rett må ALT som skal utføres BARE HVIS utsagnet er sant stå med et innrykk. Som du kan se i eksempelet under blir ingen av de to kommandoene printet når det er 'ryddig'. Under hele if-strukturen er det et regnestykke bare for at du skal se at det faktisk virket og at vi kom ned dit."
   ]
  },
  {
   "cell_type": "code",
   "execution_count": 6,
   "metadata": {
    "collapsed": false
   },
   "outputs": [
    {
     "name": "stdout",
     "output_type": "stream",
     "text": [
      "5\n"
     ]
    }
   ],
   "source": [
    "hjemme = 'ryddig'\n",
    "\n",
    "if hjemme == 'rotete':\n",
    "    print('Det er rotete!')\n",
    "    print('Du må rydde!')\n",
    "    \n",
    "print(3+2)"
   ]
  },
  {
   "cell_type": "markdown",
   "metadata": {},
   "source": [
    "Øving: Tenk over hva som vil printes dersom følgende kommandoer kjøres. Når du har tenkt over det og skrevet ned resultatet, kjør kommandoene i en ny celle.\n",
    "> x = 4\n",
    "\n",
    "> y = 6\n",
    "\n",
    "> z = 10\n",
    "\n",
    "> if x+y >= z:\n",
    "\n",
    ">     print(x)"
   ]
  },
  {
   "cell_type": "code",
   "execution_count": null,
   "metadata": {
    "collapsed": true
   },
   "outputs": [],
   "source": []
  },
  {
   "cell_type": "markdown",
   "metadata": {},
   "source": [
    "Øving: Tenk over hva som vil printes dersom følgende kommandoer kjøres. Når du har tenkt over det og skrevet ned resultatet, kjør kommandoene i en ny celle.\n",
    "> x = 'eple'\n",
    "\n",
    "> y = 'banan'\n",
    "\n",
    "> if x != y:\n",
    "\n",
    ">     print('De er ulike!')"
   ]
  },
  {
   "cell_type": "code",
   "execution_count": null,
   "metadata": {
    "collapsed": true
   },
   "outputs": [],
   "source": []
  },
  {
   "cell_type": "markdown",
   "metadata": {},
   "source": [
    "Øving: Skriv en if-struktur som sjekker om verdien til x i andre er større enn verdien til y i andre. Legg inn to rader der du gir x og y to tallverdier, husk at disse linjene må være før if-strukturen. Dersom x i andre er større enn y i andre, print en melding om dette til brukeren."
   ]
  },
  {
   "cell_type": "code",
   "execution_count": null,
   "metadata": {
    "collapsed": true
   },
   "outputs": [],
   "source": []
  },
  {
   "cell_type": "markdown",
   "metadata": {},
   "source": [
    "## If-elif\n",
    "Dette er strukturer med formen \"hvis [noe], så [handling1], og hvis ikke [noe] men [noe annet], så [handling2]\". Legg merke til at linjen med \"if\" MÅ avsluttes med kolon, og linjen med \"elif\" MÅ avsluttes med kolon, og de handlingene som skal utføres MÅ stå med et innrykk på følgende linje. \"elif\" er en forkortelse for \"else if\".\n",
    "\n",
    "Det som er viktig å innse her er at MAKSIMALT ETT av handlingssporene kan forekomme. Dersom [noe] er sant blir [handling1] utført, og da er \"if-else\"-strukturen ferdig, [noe annet] blir ikke engang undersøkt og [handling2] kan ikke skje da. Dette blir tydeligere når du leser eksemplene under. Legg merke til hva som printes og hva som ikke printes."
   ]
  },
  {
   "cell_type": "code",
   "execution_count": 9,
   "metadata": {
    "collapsed": false
   },
   "outputs": [
    {
     "name": "stdout",
     "output_type": "stream",
     "text": [
      "a og c er er ikke like\n",
      "Nå er vi ferdige.\n"
     ]
    }
   ],
   "source": [
    "a = 'eple'\n",
    "b = 'pære'\n",
    "c = 'plomme'\n",
    "\n",
    "if a == b:\n",
    "    print('a og b er like.')\n",
    "elif a != c:\n",
    "    print('a og c er er ikke like')\n",
    "\n",
    "print('Nå er vi ferdige.')"
   ]
  },
  {
   "cell_type": "markdown",
   "metadata": {},
   "source": [
    "I eksempelet over ser vi at a og b ikke var like, så derfor gikk vi videre til å sjekke om a og c er ulike. Det er de, derfor printes meldingen der."
   ]
  },
  {
   "cell_type": "code",
   "execution_count": 10,
   "metadata": {
    "collapsed": false
   },
   "outputs": [
    {
     "name": "stdout",
     "output_type": "stream",
     "text": [
      "Nå er vi ferdige.\n"
     ]
    }
   ],
   "source": [
    "a = 'eple'\n",
    "b = 'pære'\n",
    "c = 'eple'\n",
    "\n",
    "if a == b:\n",
    "    print('a og b er like.')\n",
    "elif a != c:\n",
    "    print('a og c er er ikke like')\n",
    "\n",
    "print('Nå er vi ferdige.')"
   ]
  },
  {
   "cell_type": "markdown",
   "metadata": {},
   "source": [
    "I eksempelet over ser vi at a og b ikke var like, så derfor gikk vi videre til å sjekke om a og c er ulike. Det er de ikke, derfor printes ikke meldingen der. Her ser vi at ingen av kontrollene i strukturen slo til, og derfor ble ingen av meldingene fra strukturen printet."
   ]
  },
  {
   "cell_type": "code",
   "execution_count": 11,
   "metadata": {
    "collapsed": false
   },
   "outputs": [
    {
     "name": "stdout",
     "output_type": "stream",
     "text": [
      "a og b er like.\n",
      "Nå er vi ferdige.\n"
     ]
    }
   ],
   "source": [
    "a = 'eple'\n",
    "b = 'eple'\n",
    "c = 'plomme'\n",
    "\n",
    "if a == b:\n",
    "    print('a og b er like.')\n",
    "elif a != c:\n",
    "    print('a og c er er ikke like')\n",
    "\n",
    "print('Nå er vi ferdige.')"
   ]
  },
  {
   "cell_type": "markdown",
   "metadata": {},
   "source": [
    "I eksempelet over ser vi at a og b var like, så derfor ble meldingen fra det sporet printet. Det kan være fristende å tenke at vi nå skal sjekke om a og c er ulike (noe de er), og så printe den meldingen også. Det skjer ikke, fordi vi allerede fikk treff på en tidligere kontroll i strukturen. Når man får treff på en kontroll blir de tilhørende handlingene utført, og så blir INGEN andre kontroller utført."
   ]
  },
  {
   "cell_type": "markdown",
   "metadata": {},
   "source": [
    "### Flere elif etter hverandre\n",
    "Vi kan ha if-elif-strukturer som har flere \"elif\"-nivåer etter hverandre. Det er ennå slik at maksimalt ETT av handlingssporene kan følges. Når vi får en treff blir ingen andre kontroller utført."
   ]
  },
  {
   "cell_type": "code",
   "execution_count": 12,
   "metadata": {
    "collapsed": false
   },
   "outputs": [
    {
     "name": "stdout",
     "output_type": "stream",
     "text": [
      "på\n"
     ]
    }
   ],
   "source": [
    "x = 2\n",
    "y = 3\n",
    "\n",
    "if x > 3:\n",
    "    print('Hei')\n",
    "elif x > 0:\n",
    "    print('på')\n",
    "elif y > 0:\n",
    "    print('deg.')"
   ]
  },
  {
   "cell_type": "markdown",
   "metadata": {},
   "source": [
    "Øving: Tenk over hva som vil printes dersom følgende kommandoer kjøres. Når du har tenkt over det og skrevet ned resultatet, kjør kommandoene i en ny celle.\n",
    "> x = 'grønnsak'\n",
    "\n",
    "> y = 'kjøtt'\n",
    "\n",
    "> z = 'fisk'\n",
    "\n",
    "> if x == 'fisk':\n",
    "\n",
    ">     print('Den første er fisk!')\n",
    "\n",
    "> elif y == 'kjøtt':\n",
    "\n",
    ">     print('Den andre er kjøtt!')\n",
    "\n",
    "> elif z == 'fisk':\n",
    "\n",
    ">     print('Den tredje er fisk!')"
   ]
  },
  {
   "cell_type": "code",
   "execution_count": null,
   "metadata": {
    "collapsed": true
   },
   "outputs": [],
   "source": []
  },
  {
   "cell_type": "markdown",
   "metadata": {},
   "source": [
    "Øving: Skriv en if-struktur med tre kontroller, definer en eller flere variabler før strukturen. Test at den oppfører seg som forventet ved å endre verdiene til variablen(e) og kjøre koden på nytt."
   ]
  },
  {
   "cell_type": "code",
   "execution_count": null,
   "metadata": {
    "collapsed": true
   },
   "outputs": [],
   "source": []
  },
  {
   "cell_type": "markdown",
   "metadata": {},
   "source": [
    "## Else\n",
    "Vi skal nå utvide både \"if\"-strukturer og \"elif\"-strukturer. Vi kan legge til \"else\" på slutten av \"if\"-strukturer eller \"elif\"-strukturer. Det den gjør er å legge inn et siste alternativ som SKAL gjennomføres dersom vi ikke har fått treff på noen av de tidligere kontrollene. Det er avgjørende å innse at hvis man har en \"else\" vil nøyaktig ETT av handlingssporene følges. Uten \"else\" vil ett eller ingen spor følges, men nå vet vi at noe skjer uansett."
   ]
  },
  {
   "cell_type": "code",
   "execution_count": 14,
   "metadata": {
    "collapsed": false
   },
   "outputs": [
    {
     "name": "stdout",
     "output_type": "stream",
     "text": [
      "Slapp av hele dagen!\n"
     ]
    }
   ],
   "source": [
    "dag = 'mandag'\n",
    "\n",
    "if dag == 'tirsdag':\n",
    "    print('Gå på håndballtrening.')\n",
    "elif dag == 'torsdag':\n",
    "    print('Gå på kino.')\n",
    "elif dag == 'fredag':\n",
    "    print('Klipp gresset.')\n",
    "else:\n",
    "    print('Slapp av hele dagen!')"
   ]
  },
  {
   "cell_type": "markdown",
   "metadata": {},
   "source": [
    "La oss se på en matematisk funksjon $f(x) = \n",
    "\\left\\{\n",
    "\t\\begin{array}{ll}\n",
    "        0 & \\mbox{if } x < 0 \\\\\n",
    "\t\t2x  & \\mbox{if } 0 \\leq x < 3 \\\\\n",
    "\t\t-x & \\mbox{if } 3 \\leq x < 4 \\\\\n",
    "        0 & \\mbox{if } 4 \\leq x \\\\\n",
    "\t\\end{array}\n",
    "\\right.$\n",
    "\n",
    "Her må vi bruke en if-else-struktur for å beregne funksjonsverdiene."
   ]
  },
  {
   "cell_type": "code",
   "execution_count": 16,
   "metadata": {
    "collapsed": false
   },
   "outputs": [
    {
     "name": "stdout",
     "output_type": "stream",
     "text": [
      "1.4\n"
     ]
    }
   ],
   "source": [
    "x = 0.7\n",
    "\n",
    "if x < 0:\n",
    "    f = 0\n",
    "elif 0 <= x < 3:\n",
    "    f = 2*x\n",
    "elif 3 <= x < 4:\n",
    "    f = -x\n",
    "elif 4 <= x:\n",
    "    f = 0\n",
    "\n",
    "print(f)"
   ]
  },
  {
   "cell_type": "markdown",
   "metadata": {},
   "source": [
    "Under ser vi en litt smartere måte å skrive denne koden på. Siden to av intervallene hadde samme utfall kan de slås sammen i én linje. Samtidig kan vi skrive else, siden hvis x ikke er mellom 0 og 3 eller mellom 3 og 4 MÅ x være større enn 4 eller mindre enn 0, og da MÅ vi sette f(x) = 0. Når ingen andre muligheter finnes kan vi skrive else."
   ]
  },
  {
   "cell_type": "code",
   "execution_count": 15,
   "metadata": {
    "collapsed": false
   },
   "outputs": [
    {
     "name": "stdout",
     "output_type": "stream",
     "text": [
      "1.4\n"
     ]
    }
   ],
   "source": [
    "x = 0.7\n",
    "\n",
    "if 0 <= x < 3:\n",
    "    f = 2*x\n",
    "elif 3 <= x < 4:\n",
    "    f = -x\n",
    "else:\n",
    "    f = 0\n",
    "\n",
    "print(f)"
   ]
  },
  {
   "cell_type": "markdown",
   "metadata": {},
   "source": [
    "Øving: Skriv kode der du sjekker verdien av variabelen \"måned\". Koden skal printe antall dager i gjeldende måned. Skriv koden med så få linjer som mulig."
   ]
  },
  {
   "cell_type": "code",
   "execution_count": null,
   "metadata": {
    "collapsed": true
   },
   "outputs": [],
   "source": []
  },
  {
   "cell_type": "markdown",
   "metadata": {},
   "source": [
    "Øving: Skriv kode som beregner funksjonsverdien for den matematiske funksjonen $f(x) = \n",
    "\\left\\{\n",
    "\t\\begin{array}{ll}\n",
    "        \\cos(2x) & \\mbox{if } x \\leq -2 \\\\\n",
    "\t\t0  & \\mbox{if } -2 < x \\leq 1 \\\\\n",
    "\t\t-\\ln(x) & \\mbox{if } 1 < x < 3 \\\\\n",
    "        0 & \\mbox{if } 3 \\leq x < 5\\\\\n",
    "        3e^{-x} & \\mbox{if } 5 \\leq x \\\\\n",
    "\t\\end{array}\n",
    "\\right.$"
   ]
  },
  {
   "cell_type": "code",
   "execution_count": null,
   "metadata": {
    "collapsed": true
   },
   "outputs": [],
   "source": []
  },
  {
   "cell_type": "markdown",
   "metadata": {},
   "source": [
    "## Sammensatt eksempel if-else + and/or/not\n",
    "Her er et sammensatt eksempel på en struktur med betinget valg der vi også bruker and, or og not for å vise en litt større struktur.\n",
    "\n",
    "Vi har to tallvariabler: x og y. Vi skal sammenligne disse tallene med hverandre og med andre tall etter følgende regler i en if-else-struktur i rekkefølgen gitt under:\n",
    "* Hvis x er større enn eller lik y og x > 0, print x.\n",
    "* Hvis x er lik y eller x er lik 55, print x.\n",
    "* Hvis y er lik 0 og x ikke er lik y, print y.\n",
    "* Ellers, print x*y."
   ]
  },
  {
   "cell_type": "code",
   "execution_count": 18,
   "metadata": {
    "collapsed": false
   },
   "outputs": [
    {
     "name": "stdout",
     "output_type": "stream",
     "text": [
      "6\n"
     ]
    }
   ],
   "source": [
    "x = 2\n",
    "y = 3\n",
    "\n",
    "if x >= y and x > 0:\n",
    "    print(x)\n",
    "elif x == y or x == 55:\n",
    "    print(x)\n",
    "elif y == 0 and not(x == y):    # Denne linjen kunne også vært     elif y == 0 and x != y\n",
    "    print(y)\n",
    "else:\n",
    "    print(x*y)"
   ]
  },
  {
   "cell_type": "markdown",
   "metadata": {},
   "source": [
    "Koden over kan skrives på færre linjer på måten gitt under. Årsaken til det er at det er to ulike spor som begge leder til samme utfall."
   ]
  },
  {
   "cell_type": "code",
   "execution_count": 19,
   "metadata": {
    "collapsed": false
   },
   "outputs": [
    {
     "name": "stdout",
     "output_type": "stream",
     "text": [
      "6\n"
     ]
    }
   ],
   "source": [
    "x = 2\n",
    "y = 3\n",
    "\n",
    "if (x >= y and x > 0) or (x == y or x == 55):    # Her kunne vi klart oss uten parentesene rundt (x == y or x == 55)\n",
    "    print(x)\n",
    "elif y == 0 and not(x == y):\n",
    "    print(y)\n",
    "else:\n",
    "    print(x*y)"
   ]
  },
  {
   "cell_type": "markdown",
   "metadata": {},
   "source": [
    "Øving: Skriv en if-else-struktur som beregner funksjonsverdien for denne funksjonen:\n",
    "$f(x, y) = \n",
    "\\left\\{\n",
    "\t\\begin{array}{ll}\n",
    "        0 & \\mbox{if } x < 0 \\mbox{ or } y \\leq 0\\\\\n",
    "\t\t\\frac{x}{y}  & \\mbox{if } 0 \\leq x < 1 \\mbox{ and } 0 < y < 2 \\\\\n",
    "\t\t2y-\\frac{1}{x^2} & \\mbox{if } 1 \\leq x \\\\\n",
    "        \\sin(x \\cdot \\frac{\\pi}{180^{\\circ}})  & \\mbox{if } 0 \\leq x < 1 \\mbox{ and } 2 \\leq y \\\\\n",
    "\t\\end{array}\n",
    "\\right.$"
   ]
  },
  {
   "cell_type": "code",
   "execution_count": null,
   "metadata": {
    "collapsed": true
   },
   "outputs": [],
   "source": []
  },
  {
   "cell_type": "markdown",
   "metadata": {},
   "source": [
    "Øving: Skriv kode som forteller oss hvilken hylle en bok skal stå i basert på reglene under:\n",
    "\n",
    "En bok kjennetegnes med en tittel, navnet på forfatteren (etternavn, fornavn) og året boken er utgitt. Dette skal defineres over if-else-strukturen som viset i kode-cellen under. Skriv alt med små bokstaver, (med mindre du vil bruke metoder for å bearbeide strenger for at ikke store/små bokstaver skal gi problemer).\n",
    "\n",
    "Det finnes 4 bokhyller. Under er reglene for sortering blant bokhyllene:\n",
    "* Hylle 1: Bøker der forfatterens navn begynner med bokstaver mellom a og f og utgivelsesår er før 2010.\n",
    "* Hylle 2: Bøker der tittelen begynner med bokstaver mellom g og o og forfatterens navn begynner med bokstaver mellom p og v.\n",
    "* Hylle 3: Bøker der utgivelsesår er etter 2012 og tittelen ikke begynner med a, b eller c.\n",
    "* Hylle 4: Bøker som ikke skal i andre hyller.\n",
    "\n",
    "\n",
    "Husk at vi kan hente første bokstav i en streng ved å skrive streng[0]. I kodecellen under er noen bøker lagt inn, sammen med fasit for hvilken hylle de skal havne i dersom koden er skrevet riktig."
   ]
  },
  {
   "cell_type": "code",
   "execution_count": null,
   "metadata": {
    "collapsed": true
   },
   "outputs": [],
   "source": [
    "tittel = 'harry potter og halvblodsprinsen'\n",
    "forfatter = 'rowling, j.k.'\n",
    "utgivelsesår = 2008\n",
    "# skal havne i hylle 2\n",
    "\n",
    "\n",
    "tittel = 'belgravia'\n",
    "forfatter = 'fellowes, julian'\n",
    "utgivelsesår = 2016\n",
    "# skal havne i hylle 4\n",
    "\n",
    "\n",
    "tittel = 'doktor proktors tidsbadekar'\n",
    "forfatter = 'nesbø, jo'\n",
    "utgivelsesår = 2015\n",
    "# skal havne i hylle 3"
   ]
  },
  {
   "cell_type": "markdown",
   "metadata": {
    "collapsed": true
   },
   "source": [
    "###### Øystein Grøndahl, september 2016"
   ]
  }
 ],
 "metadata": {
  "anaconda-cloud": {},
  "kernelspec": {
   "display_name": "Python [Root]",
   "language": "python",
   "name": "Python [Root]"
  },
  "language_info": {
   "codemirror_mode": {
    "name": "ipython",
    "version": 3
   },
   "file_extension": ".py",
   "mimetype": "text/x-python",
   "name": "python",
   "nbconvert_exporter": "python",
   "pygments_lexer": "ipython3",
   "version": "3.5.1"
  }
 },
 "nbformat": 4,
 "nbformat_minor": 0
}
