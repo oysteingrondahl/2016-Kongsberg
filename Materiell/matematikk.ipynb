{
 "cells": [
  {
   "cell_type": "markdown",
   "metadata": {},
   "source": [
    "# Matematikk i Python\n",
    "Vi har tilgang til alle vanlige matematiske funksjoner i Python i ulike moduler med verktøy. Her er en oversikt:\n",
    "https://docs.python.org/3/library/numeric.html\n",
    "\n",
    "For mange av funksjonene vi skal se på må vi først importere en modul med matematiske verktøy. Det gjør vi ved å skrive \"import math\" øverst i koden vår. \"math\"-modulen inneholder mange verktøy. For å få en fullstendig oversikt over hvilke funksjoner som finnes i math-modulen kan man lese dokumentasjonen på nett:\n",
    "https://docs.python.org/3/library/math.html\n",
    "\n",
    "Man kan også bruke kommandoen help(math) for å få en oversikt.\n",
    "\n",
    "Funksjonene brukes ved at man skriver math.funksjonsnavn(argument), f.eks. math.cos(0) for å ta cosinus til vinkelen 0."
   ]
  },
  {
   "cell_type": "code",
   "execution_count": 15,
   "metadata": {
    "collapsed": false
   },
   "outputs": [
    {
     "name": "stdout",
     "output_type": "stream",
     "text": [
      "Help on built-in module math:\n",
      "\n",
      "NAME\n",
      "    math\n",
      "\n",
      "DESCRIPTION\n",
      "    This module is always available.  It provides access to the\n",
      "    mathematical functions defined by the C standard.\n",
      "\n",
      "FUNCTIONS\n",
      "    acos(...)\n",
      "        acos(x)\n",
      "        \n",
      "        Return the arc cosine (measured in radians) of x.\n",
      "    \n",
      "    acosh(...)\n",
      "        acosh(x)\n",
      "        \n",
      "        Return the inverse hyperbolic cosine of x.\n",
      "    \n",
      "    asin(...)\n",
      "        asin(x)\n",
      "        \n",
      "        Return the arc sine (measured in radians) of x.\n",
      "    \n",
      "    asinh(...)\n",
      "        asinh(x)\n",
      "        \n",
      "        Return the inverse hyperbolic sine of x.\n",
      "    \n",
      "    atan(...)\n",
      "        atan(x)\n",
      "        \n",
      "        Return the arc tangent (measured in radians) of x.\n",
      "    \n",
      "    atan2(...)\n",
      "        atan2(y, x)\n",
      "        \n",
      "        Return the arc tangent (measured in radians) of y/x.\n",
      "        Unlike atan(y/x), the signs of both x and y are considered.\n",
      "    \n",
      "    atanh(...)\n",
      "        atanh(x)\n",
      "        \n",
      "        Return the inverse hyperbolic tangent of x.\n",
      "    \n",
      "    ceil(...)\n",
      "        ceil(x)\n",
      "        \n",
      "        Return the ceiling of x as an int.\n",
      "        This is the smallest integral value >= x.\n",
      "    \n",
      "    copysign(...)\n",
      "        copysign(x, y)\n",
      "        \n",
      "        Return a float with the magnitude (absolute value) of x but the sign \n",
      "        of y. On platforms that support signed zeros, copysign(1.0, -0.0) \n",
      "        returns -1.0.\n",
      "    \n",
      "    cos(...)\n",
      "        cos(x)\n",
      "        \n",
      "        Return the cosine of x (measured in radians).\n",
      "    \n",
      "    cosh(...)\n",
      "        cosh(x)\n",
      "        \n",
      "        Return the hyperbolic cosine of x.\n",
      "    \n",
      "    degrees(...)\n",
      "        degrees(x)\n",
      "        \n",
      "        Convert angle x from radians to degrees.\n",
      "    \n",
      "    erf(...)\n",
      "        erf(x)\n",
      "        \n",
      "        Error function at x.\n",
      "    \n",
      "    erfc(...)\n",
      "        erfc(x)\n",
      "        \n",
      "        Complementary error function at x.\n",
      "    \n",
      "    exp(...)\n",
      "        exp(x)\n",
      "        \n",
      "        Return e raised to the power of x.\n",
      "    \n",
      "    expm1(...)\n",
      "        expm1(x)\n",
      "        \n",
      "        Return exp(x)-1.\n",
      "        This function avoids the loss of precision involved in the direct evaluation of exp(x)-1 for small x.\n",
      "    \n",
      "    fabs(...)\n",
      "        fabs(x)\n",
      "        \n",
      "        Return the absolute value of the float x.\n",
      "    \n",
      "    factorial(...)\n",
      "        factorial(x) -> Integral\n",
      "        \n",
      "        Find x!. Raise a ValueError if x is negative or non-integral.\n",
      "    \n",
      "    floor(...)\n",
      "        floor(x)\n",
      "        \n",
      "        Return the floor of x as an int.\n",
      "        This is the largest integral value <= x.\n",
      "    \n",
      "    fmod(...)\n",
      "        fmod(x, y)\n",
      "        \n",
      "        Return fmod(x, y), according to platform C.  x % y may differ.\n",
      "    \n",
      "    frexp(...)\n",
      "        frexp(x)\n",
      "        \n",
      "        Return the mantissa and exponent of x, as pair (m, e).\n",
      "        m is a float and e is an int, such that x = m * 2.**e.\n",
      "        If x is 0, m and e are both 0.  Else 0.5 <= abs(m) < 1.0.\n",
      "    \n",
      "    fsum(...)\n",
      "        fsum(iterable)\n",
      "        \n",
      "        Return an accurate floating point sum of values in the iterable.\n",
      "        Assumes IEEE-754 floating point arithmetic.\n",
      "    \n",
      "    gamma(...)\n",
      "        gamma(x)\n",
      "        \n",
      "        Gamma function at x.\n",
      "    \n",
      "    gcd(...)\n",
      "        gcd(x, y) -> int\n",
      "        greatest common divisor of x and y\n",
      "    \n",
      "    hypot(...)\n",
      "        hypot(x, y)\n",
      "        \n",
      "        Return the Euclidean distance, sqrt(x*x + y*y).\n",
      "    \n",
      "    isclose(...)\n",
      "        is_close(a, b, *, rel_tol=1e-09, abs_tol=0.0) -> bool\n",
      "        \n",
      "        Determine whether two floating point numbers are close in value.\n",
      "        \n",
      "           rel_tol\n",
      "               maximum difference for being considered \"close\", relative to the\n",
      "               magnitude of the input values\n",
      "            abs_tol\n",
      "               maximum difference for being considered \"close\", regardless of the\n",
      "               magnitude of the input values\n",
      "        \n",
      "        Return True if a is close in value to b, and False otherwise.\n",
      "        \n",
      "        For the values to be considered close, the difference between them\n",
      "        must be smaller than at least one of the tolerances.\n",
      "        \n",
      "        -inf, inf and NaN behave similarly to the IEEE 754 Standard.  That\n",
      "        is, NaN is not close to anything, even itself.  inf and -inf are\n",
      "        only close to themselves.\n",
      "    \n",
      "    isfinite(...)\n",
      "        isfinite(x) -> bool\n",
      "        \n",
      "        Return True if x is neither an infinity nor a NaN, and False otherwise.\n",
      "    \n",
      "    isinf(...)\n",
      "        isinf(x) -> bool\n",
      "        \n",
      "        Return True if x is a positive or negative infinity, and False otherwise.\n",
      "    \n",
      "    isnan(...)\n",
      "        isnan(x) -> bool\n",
      "        \n",
      "        Return True if x is a NaN (not a number), and False otherwise.\n",
      "    \n",
      "    ldexp(...)\n",
      "        ldexp(x, i)\n",
      "        \n",
      "        Return x * (2**i).\n",
      "    \n",
      "    lgamma(...)\n",
      "        lgamma(x)\n",
      "        \n",
      "        Natural logarithm of absolute value of Gamma function at x.\n",
      "    \n",
      "    log(...)\n",
      "        log(x[, base])\n",
      "        \n",
      "        Return the logarithm of x to the given base.\n",
      "        If the base not specified, returns the natural logarithm (base e) of x.\n",
      "    \n",
      "    log10(...)\n",
      "        log10(x)\n",
      "        \n",
      "        Return the base 10 logarithm of x.\n",
      "    \n",
      "    log1p(...)\n",
      "        log1p(x)\n",
      "        \n",
      "        Return the natural logarithm of 1+x (base e).\n",
      "        The result is computed in a way which is accurate for x near zero.\n",
      "    \n",
      "    log2(...)\n",
      "        log2(x)\n",
      "        \n",
      "        Return the base 2 logarithm of x.\n",
      "    \n",
      "    modf(...)\n",
      "        modf(x)\n",
      "        \n",
      "        Return the fractional and integer parts of x.  Both results carry the sign\n",
      "        of x and are floats.\n",
      "    \n",
      "    pow(...)\n",
      "        pow(x, y)\n",
      "        \n",
      "        Return x**y (x to the power of y).\n",
      "    \n",
      "    radians(...)\n",
      "        radians(x)\n",
      "        \n",
      "        Convert angle x from degrees to radians.\n",
      "    \n",
      "    sin(...)\n",
      "        sin(x)\n",
      "        \n",
      "        Return the sine of x (measured in radians).\n",
      "    \n",
      "    sinh(...)\n",
      "        sinh(x)\n",
      "        \n",
      "        Return the hyperbolic sine of x.\n",
      "    \n",
      "    sqrt(...)\n",
      "        sqrt(x)\n",
      "        \n",
      "        Return the square root of x.\n",
      "    \n",
      "    tan(...)\n",
      "        tan(x)\n",
      "        \n",
      "        Return the tangent of x (measured in radians).\n",
      "    \n",
      "    tanh(...)\n",
      "        tanh(x)\n",
      "        \n",
      "        Return the hyperbolic tangent of x.\n",
      "    \n",
      "    trunc(...)\n",
      "        trunc(x:Real) -> Integral\n",
      "        \n",
      "        Truncates x to the nearest Integral toward 0. Uses the __trunc__ magic method.\n",
      "\n",
      "DATA\n",
      "    e = 2.718281828459045\n",
      "    inf = inf\n",
      "    nan = nan\n",
      "    pi = 3.141592653589793\n",
      "\n",
      "FILE\n",
      "    (built-in)\n",
      "\n",
      "\n"
     ]
    }
   ],
   "source": [
    "help(math)"
   ]
  },
  {
   "cell_type": "code",
   "execution_count": 16,
   "metadata": {
    "collapsed": false
   },
   "outputs": [
    {
     "data": {
      "text/plain": [
       "1.0"
      ]
     },
     "execution_count": 16,
     "metadata": {},
     "output_type": "execute_result"
    }
   ],
   "source": [
    "import math\n",
    "math.cos(0)"
   ]
  },
  {
   "cell_type": "markdown",
   "metadata": {},
   "source": [
    "## Matematiske operatorer\n",
    "En operator er ett eller flere tegn som har en spesiell funksjon i koden vår. Vi er kjent med operatorer fra matematikken. F.eks. tegnet + er en operator som forteller oss at de to tingene på hver side av tegnet skal summeres. I programmering har vi mange typer operatorer, fra matematikk, logikk og andre områder. Noen av operatorene virker for tekst, lister osv. og blir dekker i egne dokumenter.\n",
    "\n",
    "Vi har følgende operatorer for matematiske handlinger:\n",
    "\n",
    "| Symbol | Handling   |\n",
    "|------|------|\n",
    "|   +  | Addisjon|\n",
    "|   -  | Subtraksjon|\n",
    "|   *  | Multiplikasjon|\n",
    "|   /  | Divisjon (vanlig)|\n",
    "|  //  | Heltallsdivisjon|\n",
    "|   %  | Restdivisjon|\n",
    "|  **  | Opphøyd i|\n",
    "Vi skal nå se eksempler på bruk av disse operatorene. Legg særlig merke til at vi har tre ulike måter å dele tall på hverandre. Vær forsiktig! Bruker du en tidligere versjon av Python (2.x) oppfører disse seg annerledes.\n",
    "\n",
    "Parenteser i Python oppfører seg slik vi er vant med fra matematikken. Python begynner innerst for å beregne noe når deler av et uttrykk er i en egen parentes.\n",
    "\n",
    "Vi bruker \"print()\"-funksjonen for å få utskrift på skjermen. Funksjonen forklares i et annet dokument."
   ]
  },
  {
   "cell_type": "code",
   "execution_count": 14,
   "metadata": {
    "collapsed": false
   },
   "outputs": [
    {
     "name": "stdout",
     "output_type": "stream",
     "text": [
      "8\n",
      "-3.912\n",
      "75\n",
      "4.333333333333333\n",
      "4\n",
      "1\n",
      "125\n"
     ]
    }
   ],
   "source": [
    "print(3+5)\n",
    "\n",
    "print(3.63 - 7.542)\n",
    "\n",
    "print(5*15)\n",
    "\n",
    "print(13/3)\n",
    "\n",
    "print(13//3)\n",
    "\n",
    "print(13%3)\n",
    "\n",
    "print(5**3)"
   ]
  },
  {
   "cell_type": "markdown",
   "metadata": {},
   "source": [
    "Øving: Tenk over hva som vil printes dersom følgende kommandoer kjøres. Når du har tenkt over det og skrevet ned resultatet, kjør kommandoene i en ny celle.\n",
    "* print((3-5)**3)\n",
    "* print(17%2)\n",
    "* print(17//2*2)\n",
    "* print(2*17//2)\n",
    "* print(17*2//2)"
   ]
  },
  {
   "cell_type": "code",
   "execution_count": null,
   "metadata": {
    "collapsed": false
   },
   "outputs": [],
   "source": []
  },
  {
   "cell_type": "markdown",
   "metadata": {},
   "source": [
    "## Typer tall\n",
    "I Python har vi tre typer tall: Heltall, desimaltall og komplekse tall. På engelsk heter de integers, floating point numbers og complex numbers, og de forkortes til int, float og complex. I Python brukes j som imaginær enhet. Komplekse tall er beskrevet grundigere senere i dette dokumentet."
   ]
  },
  {
   "cell_type": "code",
   "execution_count": 79,
   "metadata": {
    "collapsed": false
   },
   "outputs": [
    {
     "name": "stdout",
     "output_type": "stream",
     "text": [
      "<class 'int'>\n",
      "<class 'float'>\n",
      "(3-5j)\n",
      "<class 'complex'>\n"
     ]
    }
   ],
   "source": [
    "print(type(-6))\n",
    "print(type(123456.0))\n",
    "print(3-5j)\n",
    "print(type(3-5j))"
   ]
  },
  {
   "cell_type": "markdown",
   "metadata": {},
   "source": [
    "Vi kan bruke disse typene tall om hverandre."
   ]
  },
  {
   "cell_type": "code",
   "execution_count": 88,
   "metadata": {
    "collapsed": false
   },
   "outputs": [
    {
     "name": "stdout",
     "output_type": "stream",
     "text": [
      "2.78655\n",
      "(1.46-5j)\n"
     ]
    }
   ],
   "source": [
    "print(7-4.21345)\n",
    "print(3-5j - 1.54)"
   ]
  },
  {
   "cell_type": "markdown",
   "metadata": {},
   "source": [
    "## Funksjoner for bearbeiding av tall\n",
    "Vi har mange funksjoner som kan brukes for å bearbeide tall. Les fullstendig dokumentasjon her: https://docs.python.org/3/library/math.html#number-theoretic-and-representation-functions"
   ]
  },
  {
   "cell_type": "markdown",
   "metadata": {},
   "source": [
    "### Avrunding\n",
    "Vi kan avrunde tall til et bestemt antall desimaler, avrunde opp eller avrunde ned til nærmeste heltall. Når det gjelder \"round\"-funksjonen er den litt annerledes enn det vi gjerne er vant med. Når det er like langt til et å runde av både opp og ned runder funksjonen av mot partallet. Se eksempler under. I tillegg er det et annet problem som må behandles, nemlig at datamaskiner har begrenset mulighet til å lagre desimaltall. Dette kan gi oss avrundingsfeil, og det kan gi enorme feil. Se mer om dette under ekstra materiale lenger ned i dette dokumentet."
   ]
  },
  {
   "cell_type": "code",
   "execution_count": 6,
   "metadata": {
    "collapsed": false
   },
   "outputs": [
    {
     "name": "stdout",
     "output_type": "stream",
     "text": [
      "2.498\n",
      "2.5\n",
      "3.4\n",
      "3.6\n",
      "14\n",
      "6\n"
     ]
    }
   ],
   "source": [
    "# Round er en innebygd funksjon, den kommer ikke fra math-modulen.\n",
    "print(round(2.49824, 3)) # Avrunder til 3 desimaler.\n",
    "print(round(2.49824, 1)) # Avrunder til 1 desimal.\n",
    "print(round(3.35, 1)) # Avrundes opp til til 3.4.\n",
    "print(round(3.65, 1)) # Avrundes ned til til 3.6.\n",
    "import math\n",
    "print(math.ceil(13.1)) # Avrundes opp til 14.\n",
    "print(math.floor(6.9)) # Avrundes ned til 6."
   ]
  },
  {
   "cell_type": "markdown",
   "metadata": {},
   "source": [
    "Øving: Tenk over hva som vil printes dersom følgende kommandoer kjøres. Når du har tenkt over det og skrevet ned resultatet, kjør kommandoene i en ny celle.\n",
    "* print(round(5.432765, 3))\n",
    "* print(math.floor(3**3/12))\n",
    "* print(round(77.546372819, math.ceil(37/14)))"
   ]
  },
  {
   "cell_type": "code",
   "execution_count": null,
   "metadata": {
    "collapsed": false
   },
   "outputs": [],
   "source": []
  },
  {
   "cell_type": "markdown",
   "metadata": {},
   "source": [
    "### Absoluttverdi\n",
    "Vi kan ta absoluttverdien til et tall ved å bruke abs()-funksjonen."
   ]
  },
  {
   "cell_type": "code",
   "execution_count": 37,
   "metadata": {
    "collapsed": false
   },
   "outputs": [
    {
     "name": "stdout",
     "output_type": "stream",
     "text": [
      "67\n",
      "4\n",
      "0.1\n"
     ]
    }
   ],
   "source": [
    "print(abs(-67))\n",
    "print(abs(4))\n",
    "print(abs(-0.1))"
   ]
  },
  {
   "cell_type": "markdown",
   "metadata": {},
   "source": [
    "Øving: Tenk over hva som vil printes dersom følgende kommandoer kjøres. Når du har tenkt over det og skrevet ned resultatet, kjør kommandoene i en ny celle.\n",
    "* print(abs(-0.0))\n",
    "* print(abs((-3)**3))"
   ]
  },
  {
   "cell_type": "code",
   "execution_count": null,
   "metadata": {
    "collapsed": false
   },
   "outputs": [],
   "source": []
  },
  {
   "cell_type": "markdown",
   "metadata": {},
   "source": [
    "### Fakultet"
   ]
  },
  {
   "cell_type": "code",
   "execution_count": 39,
   "metadata": {
    "collapsed": false
   },
   "outputs": [
    {
     "name": "stdout",
     "output_type": "stream",
     "text": [
      "1\n",
      "6\n",
      "120\n"
     ]
    }
   ],
   "source": [
    "print(math.factorial(0))\n",
    "print(math.factorial(3))\n",
    "print(math.factorial(5))"
   ]
  },
  {
   "cell_type": "markdown",
   "metadata": {},
   "source": [
    "Øving: Tenk over hva som vil printes dersom følgende kommandoer kjøres. Når du har tenkt over det og skrevet ned resultatet, kjør kommandoene i en ny celle.\n",
    "* print(math.factorial(2**3-2))\n",
    "* print(480/math.factorial(4))"
   ]
  },
  {
   "cell_type": "code",
   "execution_count": null,
   "metadata": {
    "collapsed": false
   },
   "outputs": [],
   "source": []
  },
  {
   "cell_type": "markdown",
   "metadata": {},
   "source": [
    "### Summering av tall\n",
    "Vi kan legge sammen en liste med tall ved å bruke fsum-funksjonen som vist under. Legg merke til at vi bruker en klammeparentes, og tallene er adskilt med kommaer."
   ]
  },
  {
   "cell_type": "code",
   "execution_count": 123,
   "metadata": {
    "collapsed": false
   },
   "outputs": [
    {
     "name": "stdout",
     "output_type": "stream",
     "text": [
      "8.7\n"
     ]
    }
   ],
   "source": [
    "print(math.fsum([4.5, 3.2, 7, 1, -5, -2]))"
   ]
  },
  {
   "cell_type": "markdown",
   "metadata": {},
   "source": [
    "Øving: Tenk over hva som vil printes dersom følgende kommandoer kjøres. Når du har tenkt over det og skrevet ned resultatet, kjør kommandoene i en ny celle.\n",
    "* print(math.fsum([-3.8, 2, 0, 6.6, 5.3, -4.6, 3]))\n",
    "* print(math.fsum([2$*$5, (-2)$**$3, math.ceil(9/2)]))"
   ]
  },
  {
   "cell_type": "code",
   "execution_count": null,
   "metadata": {
    "collapsed": false
   },
   "outputs": [],
   "source": []
  },
  {
   "cell_type": "markdown",
   "metadata": {},
   "source": [
    "### Kvadratrot og andre eksponenter\n",
    "Vi kan ta kvadratroten av et tall ved å bruke den innebygde kvadratrotfunksjonen og ved å opphøye noe i en halv."
   ]
  },
  {
   "cell_type": "code",
   "execution_count": 52,
   "metadata": {
    "collapsed": false
   },
   "outputs": [
    {
     "name": "stdout",
     "output_type": "stream",
     "text": [
      "3.0\n",
      "3.0\n"
     ]
    }
   ],
   "source": [
    "print(math.sqrt(9))\n",
    "print(9**0.5)"
   ]
  },
  {
   "cell_type": "markdown",
   "metadata": {},
   "source": [
    "Vi kan opphøye et tall i et annet ved å bruke en innebygd funksjon eller ved å bruke opphøyd i-operatoren."
   ]
  },
  {
   "cell_type": "code",
   "execution_count": 54,
   "metadata": {
    "collapsed": false
   },
   "outputs": [
    {
     "name": "stdout",
     "output_type": "stream",
     "text": [
      "25\n",
      "25.0\n",
      "543.4905409886782\n",
      "543.4905409886782\n"
     ]
    }
   ],
   "source": [
    "print(5**2)\n",
    "print(math.pow(5, 2))\n",
    "print(3.56**4.96)\n",
    "print(math.pow(3.56, 4.96))"
   ]
  },
  {
   "cell_type": "markdown",
   "metadata": {},
   "source": [
    "Øving: Tenk over hva som vil printes dersom følgende kommandoer kjøres. Når du har tenkt over det og skrevet ned resultatet, kjør kommandoene i en ny celle.\n",
    "* print(math.pow(3, 4))\n",
    "* print(math.pow(math.ceil(5/3), math.fsum([13, -4, -5, -1])))"
   ]
  },
  {
   "cell_type": "code",
   "execution_count": null,
   "metadata": {
    "collapsed": false
   },
   "outputs": [],
   "source": []
  },
  {
   "cell_type": "markdown",
   "metadata": {},
   "source": [
    "## Eksponentialfunksjonen og logaritmer\n",
    "Eksponentialfunksjonen e^x skrives math.exp(x) i Python. Den naturlige logaritmen ln(x) skrives math.log(x). Det er vanlig i dataverktøy at vi må bruke \"log()\" når vi på norsk ville brukt \"ln()\", mens vi har funksjoner som \"log10()\", \"log2()\" osv. for logaritmer med andre grunntall."
   ]
  },
  {
   "cell_type": "code",
   "execution_count": 28,
   "metadata": {
    "collapsed": false
   },
   "outputs": [
    {
     "name": "stdout",
     "output_type": "stream",
     "text": [
      "2.718281828459045\n",
      "7.38905609893065\n",
      "0.006737946999085467\n",
      "1.410986973710262\n",
      "4.1\n",
      "2.035623909730721\n",
      "2.035623909730721\n",
      "4.1\n",
      "2.718281828459045\n"
     ]
    }
   ],
   "source": [
    "print(math.exp(1)) # e i første\n",
    "print(math.exp(2)) # e i andre\n",
    "print(math.exp(-5)) # e i minus femte\n",
    "print(math.log(4.1)) # Logaritme med grunntall e\n",
    "print(math.exp(1.410986973710262)) # e opphøyd i resultatet fra linjen over\n",
    "print(math.log(4.1, 2)) # Logaritme med grunntall 2\n",
    "print(math.log2(4.1)) # Logaritme med grunntall 2, samme som over, skrevet annerledes\n",
    "print(2**2.035623909730721) # 2 opphøyd i resultatet fra linjen over\n",
    "print(math.e) # Vi kan bruke verdien av e på denne måten også"
   ]
  },
  {
   "cell_type": "markdown",
   "metadata": {},
   "source": [
    "Øving: Skriv kode som beregner og printer følgende:\n",
    "* $5^{-3}$\n",
    "* $\\log_3 (5)$\n",
    "* $\\log_{10} (2000)$\n",
    "* $e^{\\ln(6)}$"
   ]
  },
  {
   "cell_type": "code",
   "execution_count": null,
   "metadata": {
    "collapsed": false
   },
   "outputs": [],
   "source": []
  },
  {
   "cell_type": "markdown",
   "metadata": {},
   "source": [
    "## Trigonometri\n",
    "Vi har tilgang til de trigonometriske funksjonene og til konstanten pi. Se eksempler under for bruken av disse. I utgangspunktet bruker funksjonene en vinkel i radianer, men vi kan bruke to funksjoner for å regne om vinkler fra grader til radianer eller motsatt."
   ]
  },
  {
   "cell_type": "code",
   "execution_count": 124,
   "metadata": {
    "collapsed": false
   },
   "outputs": [
    {
     "name": "stdout",
     "output_type": "stream",
     "text": [
      "3.141592653589793\n",
      "0.8660254037844386\n",
      "0.5000000000000001\n",
      "1.7320508075688767\n"
     ]
    }
   ],
   "source": [
    "print(math.pi) # Verdien av pi\n",
    "print(math.sin(math.pi/3)) # sinus\n",
    "print(math.cos(math.pi/3)) # cosinus\n",
    "print(math.tan(math.pi/3)) # tangens"
   ]
  },
  {
   "cell_type": "markdown",
   "metadata": {},
   "source": [
    "### Inverse trigonometriske funksjoner\n",
    "Jeg har ganget vinklene med 4 og 6 for å vise at de var pi/4 og pi/6."
   ]
  },
  {
   "cell_type": "code",
   "execution_count": 125,
   "metadata": {
    "collapsed": false
   },
   "outputs": [
    {
     "name": "stdout",
     "output_type": "stream",
     "text": [
      "3.1415926535897936\n",
      "3.141592653589793\n",
      "3.141592653589793\n"
     ]
    }
   ],
   "source": [
    "print(math.asin(0.5)*6) # arcus sinus\n",
    "print(math.acos(math.sqrt(2)/2)*4) # arcus cosinus\n",
    "print(math.atan(math.sqrt(3)/3)*6) # arcus tangens"
   ]
  },
  {
   "cell_type": "markdown",
   "metadata": {},
   "source": [
    "### Omregning mellom radianer og grader"
   ]
  },
  {
   "cell_type": "code",
   "execution_count": 126,
   "metadata": {
    "collapsed": false
   },
   "outputs": [
    {
     "name": "stdout",
     "output_type": "stream",
     "text": [
      "59.99999999999999\n",
      "0.5235987755982988\n"
     ]
    }
   ],
   "source": [
    "print(math.degrees(math.pi/3)) # fra radianer til grader\n",
    "print(math.radians(30)) # fra grader til radianer"
   ]
  },
  {
   "cell_type": "markdown",
   "metadata": {},
   "source": [
    "Øving: Skriv kode som regner om disse vinklene:\n",
    "* $\\pi/6$ til grader\n",
    "* $180$ grader til radianer\n",
    "* $3\\pi/2$ til grader\n",
    "\n",
    "Skriv kode som regner ut følgende:\n",
    "* $\\cos(\\pi)$\n",
    "* $\\arcsin\\left(\\frac{\\sqrt{3}}{2}\\right)$"
   ]
  },
  {
   "cell_type": "code",
   "execution_count": null,
   "metadata": {
    "collapsed": true
   },
   "outputs": [],
   "source": []
  },
  {
   "cell_type": "markdown",
   "metadata": {},
   "source": [
    "Øving: Tenk over hva som vil printes dersom følgende kommandoer kjøres. Når du har tenkt over det og skrevet ned resultatet, kjør kommandoene i en ny celle.\n",
    "* print(math.sin(3*math.pi/2))\n",
    "* print(math.cos(math.acos(0.8)))\n",
    "* print(math.sin(math.acos(0.5)))"
   ]
  },
  {
   "cell_type": "code",
   "execution_count": null,
   "metadata": {
    "collapsed": false
   },
   "outputs": [],
   "source": []
  },
  {
   "cell_type": "markdown",
   "metadata": {},
   "source": [
    "## Komplekse tall\n",
    "Matematiske funksjoner for komplekse tall finner vi i cmath-modulen. Vi kan plukke ut den reelle og den imaginære delen av et komplekst tall."
   ]
  },
  {
   "cell_type": "code",
   "execution_count": 35,
   "metadata": {
    "collapsed": false
   },
   "outputs": [
    {
     "name": "stdout",
     "output_type": "stream",
     "text": [
      "(1+1.7320508075688772j)\n",
      "(-2+2j)\n",
      "1.0\n",
      "1.7320508075688772\n"
     ]
    }
   ],
   "source": [
    "import cmath\n",
    "tallet = 1+math.sqrt(3)*1j # Lager et komplekst tall\n",
    "print(tallet)\n",
    "tallto = complex(-2, 2) # Lager et annet komplekst tall på en annen måte\n",
    "print(tallto)\n",
    "print(tallet.real) # Finner realdelen\n",
    "print(tallet.imag) # Finner den imaginære delen"
   ]
  },
  {
   "cell_type": "markdown",
   "metadata": {},
   "source": [
    "### Modulus (absoluttverdi) og fase (vinkel)"
   ]
  },
  {
   "cell_type": "code",
   "execution_count": 34,
   "metadata": {
    "collapsed": false
   },
   "outputs": [
    {
     "name": "stdout",
     "output_type": "stream",
     "text": [
      "1.9999999999999998\n",
      "1.0471975511965976\n",
      "3.141592653589793\n"
     ]
    }
   ],
   "source": [
    "print(abs(tallet)) # Finner modulus (absoluttverdi) av det komplekse tallet\n",
    "print(cmath.phase(tallet)) # Finner fasen (vinkelen) til det komplekse tallet\n",
    "print(cmath.phase(tallet)*3) # For å vise at vinkelen var pi/3"
   ]
  },
  {
   "cell_type": "markdown",
   "metadata": {},
   "source": [
    "### Polar representasjon av komplekst tall\n",
    "I utgangspunktet er komplekse tall i Python alltid på formen $z = a + bi$, men dersom vi ønsker å skrive et komplekst tall på den polare representasjonen $z = r e^{\\phi i}$ kan vi bruke cmath.polar(z)."
   ]
  },
  {
   "cell_type": "code",
   "execution_count": 120,
   "metadata": {
    "collapsed": false
   },
   "outputs": [
    {
     "name": "stdout",
     "output_type": "stream",
     "text": [
      "(1+1.7320508075688772j)\n",
      "(1.9999999999999998, 1.0471975511965976)\n",
      "1.9999999999999998\n",
      "1.0471975511965976\n"
     ]
    }
   ],
   "source": [
    "print(tallet)\n",
    "print(cmath.polar(tallet))\n",
    "lengde, fase = cmath.polar(tallet)\n",
    "print(lengde)\n",
    "print(fase)"
   ]
  },
  {
   "cell_type": "markdown",
   "metadata": {},
   "source": [
    "### Rektangulær/kartesisk representasjon av komplekst tall\n",
    "Dersom vi har modulus og fase fra den polare representasjonen $z = r e^{\\phi i}$ kan vi generere den kartesiske formen $z = a + bi$ ved å bruke cmath.rect(r, phi)."
   ]
  },
  {
   "cell_type": "code",
   "execution_count": 121,
   "metadata": {
    "collapsed": false
   },
   "outputs": [
    {
     "name": "stdout",
     "output_type": "stream",
     "text": [
      "1.9999999999999998\n",
      "1.0471975511965976\n",
      "(1+1.732050807568877j)\n"
     ]
    }
   ],
   "source": [
    "print(lengde)\n",
    "print(fase)\n",
    "print(cmath.rect(lengde, fase))"
   ]
  },
  {
   "cell_type": "markdown",
   "metadata": {},
   "source": [
    "### Mer om komplekse tall\n",
    "Mer stoff om komplekse tall finnes på https://docs.python.org/3/library/cmath.html"
   ]
  },
  {
   "cell_type": "markdown",
   "metadata": {},
   "source": [
    "Øving: Skriv kode som finner tallet $z$ definert som vist under, der $z_1$ er \"tallet\" og $z_2$ er \"tallto\" definert over.\n",
    "\n",
    "$z_1 = a_1 + b_1 i\\\\\n",
    "z_2 = a_2 + b_2 i\\\\\n",
    "z = a_1b_2 + b_1a_2 i$"
   ]
  },
  {
   "cell_type": "code",
   "execution_count": null,
   "metadata": {
    "collapsed": true
   },
   "outputs": [],
   "source": [
    "tallet = 1+math.sqrt(3)*1j\n",
    "tallto = complex(-2, 2)\n"
   ]
  },
  {
   "cell_type": "markdown",
   "metadata": {},
   "source": [
    "Øving: Bruk det komplekse tallet $z$ som du fant i forrige øving. Finn modulus og fase for dette tallet."
   ]
  },
  {
   "cell_type": "code",
   "execution_count": null,
   "metadata": {
    "collapsed": true
   },
   "outputs": [],
   "source": []
  },
  {
   "cell_type": "markdown",
   "metadata": {},
   "source": [
    "# Ekstra materiale\n",
    "Feil i desimalene"
   ]
  },
  {
   "cell_type": "code",
   "execution_count": 3,
   "metadata": {
    "collapsed": false
   },
   "outputs": [
    {
     "data": {
      "text/plain": [
       "-3.8876999999999997"
      ]
     },
     "execution_count": 3,
     "metadata": {},
     "output_type": "execute_result"
    }
   ],
   "source": [
    "3.6543 - 7.542"
   ]
  },
  {
   "cell_type": "markdown",
   "metadata": {},
   "source": [
    "round(2.675, 2) gives 2.67 instead of the expected 2.68.\n",
    "\n",
    "print(math.cos(math.pi/3))"
   ]
  },
  {
   "cell_type": "markdown",
   "metadata": {},
   "source": [
    "Hyperbolske funksjoner\n",
    "https://docs.python.org/3.4/library/math.html#hyperbolic-functions"
   ]
  },
  {
   "cell_type": "markdown",
   "metadata": {},
   "source": [
    "Spesielle funksjoner\n",
    "https://docs.python.org/3.4/library/math.html#special-functions"
   ]
  },
  {
   "cell_type": "markdown",
   "metadata": {},
   "source": [
    "Eksakte brøker\n",
    "https://docs.python.org/3.5/library/fractions.html"
   ]
  },
  {
   "cell_type": "code",
   "execution_count": 1,
   "metadata": {
    "collapsed": false
   },
   "outputs": [
    {
     "name": "stdout",
     "output_type": "stream",
     "text": [
      "0.04\n",
      "0.08\n",
      "0.12\n",
      "0.16\n",
      "0.2\n",
      "0.24\n",
      "0.28\n",
      "0.32\n",
      "0.36\n",
      "0.4\n",
      "0.44\n",
      "0.48\n",
      "0.52\n",
      "0.56\n",
      "0.6\n",
      "0.64\n",
      "0.68\n",
      "0.72\n",
      "0.76\n",
      "0.8\n",
      "0.84\n",
      "0.88\n",
      "0.92\n",
      "0.96\n",
      "1.0\n",
      "1.04\n",
      "1.08\n",
      "1.12\n",
      "1.16\n",
      "1.2\n",
      "1.24\n",
      "1.28\n",
      "1.32\n",
      "1.36\n",
      "1.4000000000000001\n",
      "1.44\n",
      "1.48\n",
      "1.52\n",
      "1.56\n",
      "1.6\n",
      "1.6400000000000001\n",
      "1.68\n",
      "1.72\n",
      "1.76\n",
      "1.8\n",
      "1.84\n",
      "1.8800000000000001\n",
      "1.92\n",
      "1.96\n",
      "2.0\n"
     ]
    }
   ],
   "source": [
    "for p in range(50):\n",
    "    wf = (p+1)*0.04\n",
    "    print(wf)"
   ]
  },
  {
   "cell_type": "markdown",
   "metadata": {},
   "source": [
    "###### Øystein Grøndahl, september 2016"
   ]
  }
 ],
 "metadata": {
  "anaconda-cloud": {},
  "kernelspec": {
   "display_name": "Python [Root]",
   "language": "python",
   "name": "Python [Root]"
  },
  "language_info": {
   "codemirror_mode": {
    "name": "ipython",
    "version": 3
   },
   "file_extension": ".py",
   "mimetype": "text/x-python",
   "name": "python",
   "nbconvert_exporter": "python",
   "pygments_lexer": "ipython3",
   "version": "3.5.1"
  }
 },
 "nbformat": 4,
 "nbformat_minor": 0
}
