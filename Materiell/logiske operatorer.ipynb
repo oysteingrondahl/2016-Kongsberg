{
 "cells": [
  {
   "cell_type": "markdown",
   "metadata": {},
   "source": [
    "# Logiske operatorer\n",
    "Logiske operatorer brukes til å utføre sammenliknger. Vi må ofte sammenlikne ulike størrelser med hverandre, og sammenlikninger blir særlig viktig når vi ser på if-else-strukturer, som er helt sentralt i programmering. Vi gjør sammenlikninger i hverdagen: Vi sammenlikner priser på to liknende produkter. Vi sammenlikner prisen på et produkt med beløpet vi er villig til å bruke. Vi sammenlikner tittelene på bøker hvis de skal sorteres alfabetisk. Vi sammenlikner hvor lang tid vi tror noe vil ta med tiden vi har tilgjengelig.\n",
    "\n",
    "Vi har som regel 6 typer sammenlikninger. Vi kan sjekke om to ting er like, om de er ulike, om den første er mindre enn den andre, mindre enn eller lik den andre, større enn den andre eller større enn eller lik den andre. I Python bruker vi operatorene i tabellen under. Legg særlig merke til at det er to likhetstegn i den første sammenlikninger. Vi bruker ETT likhetstegn når en variabel skal få en verdi, og vi bruker TO likhetstegn når vi skal undersøke om to ting er like.\n",
    "\n",
    "| Symbol | Type sammenlikning   |\n",
    "|------|------|\n",
    "|  ==  | Lik|\n",
    "|  !=  | Ulik|\n",
    "|   <  | Mindre enn|\n",
    "|  <=  | Mindre enn eller lik|\n",
    "|   >  | Større enn|\n",
    "|  >=  | Større enn eller lik|\n",
    "\n",
    "Når vi gjør en (lovlig) sammenlikning får vi ett av to resultater. Enten \"True\" eller \"False\". Hvis vi gjør en ulovlig sammenlikning får vi en feilmelding. Prøv selv å sammenlikne et tall med en tekst, en streng. La oss se på noen grunnleggende eksempler:"
   ]
  },
  {
   "cell_type": "code",
   "execution_count": 5,
   "metadata": {
    "collapsed": false
   },
   "outputs": [
    {
     "name": "stdout",
     "output_type": "stream",
     "text": [
      "False\n",
      "True\n",
      "False\n",
      "True\n",
      "True\n",
      "True\n"
     ]
    }
   ],
   "source": [
    "print(3 == 5)\n",
    "print(3 != 5)\n",
    "print(2 < 2)\n",
    "print(2 <= 2)\n",
    "print(8 > -15)\n",
    "print(8 >= -15)"
   ]
  },
  {
   "cell_type": "markdown",
   "metadata": {},
   "source": [
    "Øving: Tenk over hva som vil printes dersom følgende kommandoer kjøres. Når du har tenkt over det og skrevet ned resultatet, kjør kommandoene i en ny celle. (Dersom du dobbelklikker i denne cellen vil du se hvordan man kan skrive to stjerner uten at det skal tolkes som \"fet skrift\". Legg merke til at dette brukes bare når vi skriver tekst i \"markdown\"-cellene. I kode-cellene skriver vi bare * som vanlig.)\n",
    "* print(-12 < -8)\n",
    "* print(5+8 != 13)\n",
    "* print(2&#42;&#42;4 > 2*3&#42;&#42;2) # Her har jeg skrevet &#42; to ganger der det skal stå to stjerner. Grunnen til det er at to stjerner ellers vil tolkes som om noe skal stå i fet skrift.\n",
    "* print(2\\*\\*4 > 2\\*3\\*\\*2) # Her har jeg skrevet \\* for å få stjerne uten at det tolkes som fet skrift."
   ]
  },
  {
   "cell_type": "code",
   "execution_count": null,
   "metadata": {
    "collapsed": true
   },
   "outputs": [],
   "source": []
  },
  {
   "cell_type": "markdown",
   "metadata": {},
   "source": [
    "## Sammenlikninger av variabler\n",
    "I de forrige eksemplene sammenlignet vi to konstanter. For å gjøre noe som virkelig er av verdi må vi være i stand til å sammenligne variabler. Under er et enkelt eksempel:"
   ]
  },
  {
   "cell_type": "code",
   "execution_count": 9,
   "metadata": {
    "collapsed": false
   },
   "outputs": [
    {
     "name": "stdout",
     "output_type": "stream",
     "text": [
      "False\n",
      "True\n"
     ]
    }
   ],
   "source": [
    "x = 5\n",
    "y = 3\n",
    "print(x <= y)\n",
    "print(2*x*y < x**y)"
   ]
  },
  {
   "cell_type": "markdown",
   "metadata": {},
   "source": [
    "Øving: Tenk over hva som vil printes dersom følgende kommandoer kjøres. Når du har tenkt over det og skrevet ned resultatet, kjør kommandoene i en ny celle.\n",
    "* a = 1\n",
    "* b = 2\n",
    "* c = 3\n",
    "* print(b-a != (c+2)*1/2)\n",
    "* a = -3\n",
    "* b = 2.5\n",
    "* c = -2\n",
    "* print(b-a != (c+2)*1/2)\n",
    "* a = -1\n",
    "* b = 2\n",
    "* c = -2\n",
    "* print(b-a != (c+2)*1/2)\n",
    "* print(b*(-a) + c <= b/a + c/c )"
   ]
  },
  {
   "cell_type": "code",
   "execution_count": null,
   "metadata": {
    "collapsed": true
   },
   "outputs": [],
   "source": []
  },
  {
   "cell_type": "markdown",
   "metadata": {},
   "source": [
    "## Intervaller\n",
    "Vi kan sjekke om en verdi ligger i et intervall ved å skrive f.eks. 3 < x <= 5 for å sjekke om x er større enn 3 og mindre enn eller lik 5, altså $ 3 < x \\le 5 $."
   ]
  },
  {
   "cell_type": "code",
   "execution_count": 18,
   "metadata": {
    "collapsed": false
   },
   "outputs": [
    {
     "name": "stdout",
     "output_type": "stream",
     "text": [
      "False\n",
      "True\n",
      "False\n"
     ]
    }
   ],
   "source": [
    "x = 3\n",
    "y = 4\n",
    "z = 5\n",
    "print(3 < x <= 5)\n",
    "print(3 <= x < 5)\n",
    "print(3+x < 2*y < z*z)"
   ]
  },
  {
   "cell_type": "markdown",
   "metadata": {},
   "source": [
    "Øving: Tenk over hva som vil printes dersom følgende kommandoer kjøres. Når du har tenkt over det og skrevet ned resultatet, kjør kommandoene i en ny celle.\n",
    "* x = 3\n",
    "* y = 4\n",
    "* z = 5\n",
    "* print(3 < x <= 3)\n",
    "* print(z <= 2*x < y+2)\n",
    "* print(z-2 <= x+y+x/3 < x*y/2)"
   ]
  },
  {
   "cell_type": "code",
   "execution_count": null,
   "metadata": {
    "collapsed": true
   },
   "outputs": [],
   "source": []
  },
  {
   "cell_type": "markdown",
   "metadata": {},
   "source": [
    "## Strenger\n",
    "Vi kan også sammenligne strenger:"
   ]
  },
  {
   "cell_type": "code",
   "execution_count": 19,
   "metadata": {
    "collapsed": false
   },
   "outputs": [
    {
     "name": "stdout",
     "output_type": "stream",
     "text": [
      "True\n",
      "True\n",
      "False\n",
      "False\n"
     ]
    }
   ],
   "source": [
    "streng1 = \"tekst\"\n",
    "streng2 = \"Tekst\"\n",
    "streng3 = \"annerledes\"\n",
    "print(streng1 == \"tekst\")\n",
    "print(\"annerledes\" == streng3)\n",
    "print(streng1 == streng3)\n",
    "print(streng1 == streng2)"
   ]
  },
  {
   "cell_type": "markdown",
   "metadata": {},
   "source": [
    "# Flere logiske operatorer: and, or, not\n",
    "Det finnes tre andre operatorer vi trenger for å lage logiske uttrykk. Av og til er det ikke bare én ting vi ønsker å sjekke. Kanskje jeg har svømmetrening mellom 10 og 13 på tirsdager. For å nå den må jeg gå hjemmefra senest 9 tirsdag morgen. Da ønsker jeg både å sjekke om klokka er mindre enn eller lik 9, og jeg ønsker å sjekke om det er tirsdag. Det lønner seg å sjekke om det er tirsdag først, siden det bare er på tirsdager det er noe poeng i å sjekke om klokka er mindre enn eller lik 9. Hvis vi trenger å sjekke to ting som begge må være sanne bruker vi \"and\". Operatoren \"and\" krever at begge utsagn er sanne, ellers returnerer den \"False\"."
   ]
  },
  {
   "cell_type": "code",
   "execution_count": 20,
   "metadata": {
    "collapsed": false
   },
   "outputs": [
    {
     "name": "stdout",
     "output_type": "stream",
     "text": [
      "False\n"
     ]
    }
   ],
   "source": [
    "dag = \"mandag\"\n",
    "tid = 7.5 # 07:30, halv åtte\n",
    "print(dag == \"tirsdag\" and tid <= 8)"
   ]
  },
  {
   "cell_type": "markdown",
   "metadata": {},
   "source": [
    "En annen situasjon er beskrevet her: Jeg har to naboer. Jeg lurer på om noen av naboene min heter Monroe eller Kennedy (eller noe helt annet). Det er ikke så viktig akkurat hvilket navn, så lenge minst ett av navnene står på postkassen.\n",
    "\n",
    "Dersom det holder om en av to ting er sanne bruker vi \"or\". Denne operatoren sjekker om minst en av de to er sanne. Den returnerer \"False\" hvis ingen av de to er sanne.\n",
    "\n",
    "Vi kan også gjøre dette med tall. Kanskje jeg lurer på om et tall er mindre enn -5 eller større enn 4. Det er ikke så viktig hvilken av de, så lenge en av de gjelder."
   ]
  },
  {
   "cell_type": "code",
   "execution_count": 21,
   "metadata": {
    "collapsed": false
   },
   "outputs": [
    {
     "name": "stdout",
     "output_type": "stream",
     "text": [
      "False\n",
      "True\n"
     ]
    }
   ],
   "source": [
    "nabo1 = \"Nixon\"\n",
    "nabo2 = \"Kennedy\"\n",
    "print(nabo1 == \"Monroe\" or nabo1 == \"Kennedy\")\n",
    "print(nabo2 == \"Monroe\" or nabo2 == \"Kennedy\")"
   ]
  },
  {
   "cell_type": "code",
   "execution_count": 2,
   "metadata": {
    "collapsed": false,
    "scrolled": true
   },
   "outputs": [
    {
     "name": "stdout",
     "output_type": "stream",
     "text": [
      "False\n",
      "True\n",
      "True\n"
     ]
    }
   ],
   "source": [
    "tall1 = 3\n",
    "tall2 = -8\n",
    "print(tall1 < -5 or tall1 > 4)\n",
    "print(tall2 < -5 or tall2 > 4)\n",
    "print(5 > 3 or 5 < 9) # Det gjør ingenting om begge de logiske utsagnene er sanne, \"or\" returnerer likevel \"True\"."
   ]
  },
  {
   "cell_type": "markdown",
   "metadata": {},
   "source": [
    "Den siste operatoren vi skal se på her er not. Det er en operator som sjekker om noe ikke er sant."
   ]
  },
  {
   "cell_type": "code",
   "execution_count": 29,
   "metadata": {
    "collapsed": false
   },
   "outputs": [
    {
     "name": "stdout",
     "output_type": "stream",
     "text": [
      "True\n",
      "True\n",
      "True\n",
      "False\n",
      "False\n"
     ]
    }
   ],
   "source": [
    "tall1 = 7\n",
    "print(tall1 < -5 or tall1 > 4)\n",
    "print(not tall1 < -5 or tall1 > 4) # not gjelder første logiske utsagn\n",
    "print(not (tall1 < -5) or tall1 > 4) # Samme virkning som over\n",
    "print(tall1 < -5 or not (tall1 > 4)) # Sjekker det andre utsagnet\n",
    "print(not (tall1 < -5 or tall1 > 4)) # Sjekker motsetningen av hele det sammensatte utsagnet"
   ]
  },
  {
   "cell_type": "markdown",
   "metadata": {
    "collapsed": true
   },
   "source": [
    "Øving: Tenk over hva som vil printes dersom følgende kommandoer kjøres. Når du har tenkt over det og skrevet ned resultatet, kjør kommandoene i en ny celle.\n",
    "* x = 2\n",
    "* y = -1\n",
    "* z = 3\n",
    "* print(x == y or y > z)\n",
    "* print((y != z or x > z) and (z <= z))\n",
    "* print(not(x <= y and y != x) or (z >= y and x > y))"
   ]
  },
  {
   "cell_type": "markdown",
   "metadata": {},
   "source": [
    "## Oppsummering av and/or/not\n",
    "\n",
    "Her er en tabell som viser sannhetsverdiene for alle fire muligheter for A og B\n",
    "\n",
    "\n",
    "| A     | B     || not(A)| A and B | A or B |\n",
    "|-------|-------||-------|---------|--------|\n",
    "| True  | True  || False |  True   |  True  |\n",
    "| True  | False || False |  False  |  True  |\n",
    "| False | True  || True  |  False  |  True  |\n",
    "| False | False || True  |  False  |  False |\n",
    "\n",
    "Legg merke til at \"A and B\" er sant bare hvis begge er sanne, og \"A or B\" er usant bare hvis begge er usanne."
   ]
  },
  {
   "cell_type": "markdown",
   "metadata": {
    "collapsed": true
   },
   "source": [
    "Øving: Scroll nedover til du ikke lenger ser tabellen over. Fyll så inn \"True\" og \"False\" på alle plasser i tabellen under. Sørg for at du får med deg alle fire kombinasjoner av A og B. (Når du skriver i denne tabellen gjør det ikke noe om kolonneskillene ikke liner opp helt.)\n",
    "\n",
    "| A     | B     || not(B)|  A or B | A and B |\n",
    "|-------|-------||-------|---------|---------|\n",
    "|       |       ||       |         |         |\n",
    "|       |       ||       |         |         |\n",
    "|       |       ||       |         |         |\n",
    "|       |       ||       |         |         |"
   ]
  },
  {
   "cell_type": "markdown",
   "metadata": {},
   "source": [
    "# Ekstra materiale\n",
    "and or not mer sammensatte eksempler"
   ]
  },
  {
   "cell_type": "markdown",
   "metadata": {},
   "source": [
    "## Mer om not-operatoren\n",
    "Not-operatoren er særlig nyttig dersom det finnes mange tilfeller, og alle utenom en eller to er akseptable. F.eks. er det 12 måneder, og hvis vi skal gå på skolen i januar, februar, mars, april, mai, august, september, oktober, november og desember, mens juni og juli er feriemåneder. Vi kan skrive \"or\" med alle akseptable alternativer, men det er lettere å skrive \"ikke juni eller juli\"."
   ]
  },
  {
   "cell_type": "code",
   "execution_count": 7,
   "metadata": {
    "collapsed": false
   },
   "outputs": [
    {
     "name": "stdout",
     "output_type": "stream",
     "text": [
      "False\n",
      "True\n"
     ]
    }
   ],
   "source": [
    "måned = \"juli\"\n",
    "\n",
    "print(måned == 'januar' or måned == 'februar' or måned == 'mars' or måned == 'april' or måned == 'mai' or måned == 'august' or måned == 'september' or måned == 'oktober' or måned == 'november' or måned == 'desembe')\n",
    "print(not måned == 'juni' or måned == 'juli')"
   ]
  },
  {
   "cell_type": "markdown",
   "metadata": {},
   "source": [
    "Siste linje i cellen over var merkelig. Det var jo juli, så hvorforfår vi \"True\" ut av \"ikke juni eller juli\"? \"ikke juni eller juli\" skal jo være \"False\", siden det ER juli.\n",
    "\n",
    "Det skjedde fordi not bare gjelder den første logiske påstanden, som her var \"måned == 'juni'\". Vi må bruke en parentes, eller skrive \"not\" to ganger."
   ]
  },
  {
   "cell_type": "code",
   "execution_count": 8,
   "metadata": {
    "collapsed": false
   },
   "outputs": [
    {
     "name": "stdout",
     "output_type": "stream",
     "text": [
      "False\n"
     ]
    }
   ],
   "source": [
    "print(not(måned == 'juni' or måned == 'juli'))"
   ]
  }
 ],
 "metadata": {
  "anaconda-cloud": {},
  "kernelspec": {
   "display_name": "Python [Root]",
   "language": "python",
   "name": "Python [Root]"
  },
  "language_info": {
   "codemirror_mode": {
    "name": "ipython",
    "version": 3
   },
   "file_extension": ".py",
   "mimetype": "text/x-python",
   "name": "python",
   "nbconvert_exporter": "python",
   "pygments_lexer": "ipython3",
   "version": "3.5.1"
  }
 },
 "nbformat": 4,
 "nbformat_minor": 0
}
