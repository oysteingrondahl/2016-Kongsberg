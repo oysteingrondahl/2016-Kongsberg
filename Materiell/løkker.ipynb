{
 "cells": [
  {
   "cell_type": "markdown",
   "metadata": {},
   "source": [
    "# Løkker (engelsk: loops)\n",
    "Løkker er et helt sentralt verktøy for programmering. De brukes dersom et sett med handlinger skal gjentas flere ganger. Det finnes to typer løkker, for-løkker og while-løkker. For-løkker brukes dersom et sett med handlinger skal gjentas et bestemt antall ganger. While-løkker brukes dersom vi ikke vet hvor mange ganger handlingene skal gjentas, men hvis vi kan kontrollere en variabel underveis og vet når vi kan stoppe løkken."
   ]
  },
  {
   "cell_type": "markdown",
   "metadata": {},
   "source": [
    "## For-løkker (med range)\n",
    "Disse løkkene brukes hvis vi vet hvor mange ganger handlingene skal gjentas. Et eksempel på dette kan være dersom vi ønsker å beregne funksjonsverdiene for en matematisk funksjon for hver (heltalls) x-verdi fra og med -3 til og med 10. Da skal vi gjøre beregninger etter samme regel 14 ganger. Det kan gjøres som vist under. Legg merke til at linjen med \"for\" avsluttes med kolon og at neste linje står med innrykk, tilsvarende som for if-else-strukturene."
   ]
  },
  {
   "cell_type": "code",
   "execution_count": 13,
   "metadata": {
    "collapsed": false
   },
   "outputs": [
    {
     "name": "stdout",
     "output_type": "stream",
     "text": [
      "-3 4\n",
      "-2 -1\n",
      "-1 -4\n",
      "0 -5\n",
      "1 -4\n",
      "2 -1\n",
      "3 4\n",
      "4 11\n",
      "5 20\n",
      "6 31\n",
      "7 44\n",
      "8 59\n",
      "9 76\n",
      "10 95\n"
     ]
    }
   ],
   "source": [
    "for x in range(-3, 11):\n",
    "    print(x, x**2-5)"
   ]
  },
  {
   "cell_type": "markdown",
   "metadata": {},
   "source": [
    "Her brukte jeg \"range\"-funksjonen for å generere x-verdiene fra og med -3 til og med 10. Egentlig genererer denne verdier fra og med -3 til (men ikke med) 11. Husk at i range-funksjonen er det første tallet lik startverdien vår, mens det andre tallet er alltid én større enn sluttverdien. Range-funksjonen genererer bare heltall. Vi skal senere se hvordan vi kan generere desimaltall.\n",
    "\n",
    "Det som skjer er at en variabel x opprettes og gis verdien -3. Deretter blir koden med innrykk kjørt. Deretter får x sin neste verdi, og koden med innrykk blir kjørt igjen. Variabelen som får en ny verdi for hver gjennomkjøring av løkken kalles ofte en tellevariabel eller iterasjonsvariabel.\n",
    "\n",
    "Det har ikke noe å si hva vi skriver på den plassen x står i eksempelet over. Det er vanlig å bruke i som tellevariabel, men det er lurt å bruke en bokstav som gjør at vi skjønner koden lettere når vi leser. Siden jeg her jobbet med en funksjon f(x) var x et naturlig valg. Under ser du at vi kan bruke et annet navn. Vi må bare huske på hvilket variabelnavn som er tellevariabelen, og bruke det variabelnavnet i koden med innrykk."
   ]
  },
  {
   "cell_type": "code",
   "execution_count": 14,
   "metadata": {
    "collapsed": false
   },
   "outputs": [
    {
     "name": "stdout",
     "output_type": "stream",
     "text": [
      "-3 4\n",
      "-2 -1\n",
      "-1 -4\n",
      "0 -5\n",
      "1 -4\n",
      "2 -1\n",
      "3 4\n",
      "4 11\n",
      "5 20\n",
      "6 31\n",
      "7 44\n",
      "8 59\n",
      "9 76\n",
      "10 95\n"
     ]
    }
   ],
   "source": [
    "for kattepus in range(-3, 11):\n",
    "    print(kattepus, kattepus**2-5)"
   ]
  },
  {
   "cell_type": "markdown",
   "metadata": {},
   "source": [
    "Det vi nettopp har gjort er det samme som vi gjør for hånd når vi skal lage en tabell over funksjonsverdien for å tegne grafen til en funksjon. Når vi ser på plotting av grafer senere skal vi ikke bruke range, men vi skal bruke for-løkker."
   ]
  },
  {
   "cell_type": "markdown",
   "metadata": {},
   "source": [
    "Øving: Tenk over hva som vil printes dersom følgende kommandoer kjøres. Når du har tenkt over det og skrevet ned resultatet, kjør kommandoene i en ny celle.\n",
    "> for p in range(3, 8):\n",
    "\n",
    ">     print(p, p**2)"
   ]
  },
  {
   "cell_type": "code",
   "execution_count": null,
   "metadata": {
    "collapsed": true
   },
   "outputs": [],
   "source": []
  },
  {
   "cell_type": "markdown",
   "metadata": {},
   "source": [
    "Øving: Tenk over hva som vil printes dersom følgende kommandoer kjøres. Når du har tenkt over det og skrevet ned resultatet, kjør kommandoene i en ny celle.\n",
    "> a = 2\n",
    "\n",
    "> for i in range(-2, 2):\n",
    "\n",
    ">     a += i     # Dette er det samme som a = a + i\n",
    "\n",
    ">     print(a, 2*a-0.5*a**2)"
   ]
  },
  {
   "cell_type": "code",
   "execution_count": null,
   "metadata": {
    "collapsed": true
   },
   "outputs": [],
   "source": []
  },
  {
   "cell_type": "markdown",
   "metadata": {},
   "source": [
    "Øving: Skriv en for-løkke som printer heltallene fra og med 4 til og med 15."
   ]
  },
  {
   "cell_type": "code",
   "execution_count": null,
   "metadata": {
    "collapsed": true
   },
   "outputs": [],
   "source": []
  },
  {
   "cell_type": "markdown",
   "metadata": {},
   "source": [
    "Øving: Skriv en for-løkke som printer x-verdi og funksjonsverdi for alle heltallene fra og med -10 til og med 10 for $f(x) = 2\\sin(x)$."
   ]
  },
  {
   "cell_type": "code",
   "execution_count": null,
   "metadata": {
    "collapsed": true
   },
   "outputs": [],
   "source": []
  },
  {
   "cell_type": "markdown",
   "metadata": {},
   "source": [
    "Øving: Skriv en for-løkke som gir følgende print på skjermen når den kjøres:\n",
    ">     -6\n",
    ">     -3\n",
    ">     0\n",
    ">     3\n",
    "\n",
    "Kan du finne flere for-løkker som fungerer som løsning på denne oppgaven?"
   ]
  },
  {
   "cell_type": "code",
   "execution_count": null,
   "metadata": {
    "collapsed": false
   },
   "outputs": [],
   "source": []
  },
  {
   "cell_type": "markdown",
   "metadata": {},
   "source": [
    "Øving: Skriv en for-løkke som gir følgende print på skjermen når den kjøres:\n",
    ">     1\n",
    ">     Summen så langt er 1.\n",
    ">     2\n",
    ">     Summen så langt er 3.\n",
    ">     3\n",
    ">     Summen så langt er 6.\n",
    ">     4\n",
    ">     Summen så langt er 10.\n",
    ">     Summen totalt ble 10.\n",
    "\n",
    "Koden bør ta 6 linjer, men kan gjøres med 5."
   ]
  },
  {
   "cell_type": "code",
   "execution_count": 2,
   "metadata": {
    "collapsed": false
   },
   "outputs": [
    {
     "name": "stdout",
     "output_type": "stream",
     "text": [
      "1\n",
      "Summen så langt er 1.\n",
      "2\n",
      "Summen så langt er 3.\n",
      "3\n",
      "Summen så langt er 6.\n",
      "4\n",
      "Summen så langt er 10.\n",
      "Summen totalt ble 10.\n"
     ]
    }
   ],
   "source": []
  },
  {
   "cell_type": "markdown",
   "metadata": {},
   "source": [
    "Vi kan bruke range-funksjonen til å generere heltall med en bestemt avstand mellom tallene ved å gi inn et tredje tall. Mønsteret er range(start, stop, step), der step er avstanden mellom tallene. Husk at range-funksjonen har formen \"Fra og med, til (men ikke med)\". Hvis neste verdi etter å ha lagt til verdien \"step\" er større enn eller lik stop-verdien blir verdien ikke brukt og løkken er ferdig. Se særlig at 13 ikke er med i den andre løkken under."
   ]
  },
  {
   "cell_type": "code",
   "execution_count": 26,
   "metadata": {
    "collapsed": false
   },
   "outputs": [
    {
     "name": "stdout",
     "output_type": "stream",
     "text": [
      "Her begynner første løkke.\n",
      "2\n",
      "4\n",
      "6\n",
      "8\n",
      "Her begynner andre løkke.\n",
      "-2\n",
      "1\n",
      "4\n",
      "7\n",
      "10\n"
     ]
    }
   ],
   "source": [
    "print('Her begynner første løkke.')\n",
    "for i in range(2, 9, 2):\n",
    "    print(i)\n",
    "\n",
    "print('Her begynner andre løkke.')\n",
    "for i in range(-2, 13, 3):\n",
    "    print(i)"
   ]
  },
  {
   "cell_type": "markdown",
   "metadata": {},
   "source": [
    "## For-løkker (med liste)\n",
    "Alternativet til å bruke range-funksjonen for å generere heltall er å bruke en liste. Tellevariabelen eller iterasjonsvariabelen brukes på samme måte, men den får nå helt andre verdier. Tidligere måtte den være et heltall, nå kan den være hva som helst, til og med tekst, lister, funksjoner osv. Måten det virker på er at iterasjonsvariabelen får først verdien til første element i listen, deretter verdien til neste element i listen, osv. til vi er gjennom hele listen. Se eksempelet under der vi bare printer iterasjonsvariabelen for hver runde i løkken."
   ]
  },
  {
   "cell_type": "code",
   "execution_count": 2,
   "metadata": {
    "collapsed": false
   },
   "outputs": [
    {
     "name": "stdout",
     "output_type": "stream",
     "text": [
      "1\n",
      "4\n",
      "3\n",
      "Kari\n",
      "Petter\n",
      "[5, 4, 3]\n",
      "-5\n"
     ]
    }
   ],
   "source": [
    "tingtang = [1, 4, 3, 'Kari', 'Petter', [5, 4, 3], -5]\n",
    "for element in tingtang:\n",
    "    print(element)"
   ]
  },
  {
   "cell_type": "markdown",
   "metadata": {},
   "source": [
    "Vi kan kalle iterasjonsvariabelen for hva som helst. Personlig liker jeg å bruke i, j eller k når jeg bruker range, og \"element\" når jeg bruker en liste. Grunnen til det er at jeg kobler i, j og k til å være heltall, mens navnet \"element\" gjør det tydeligere at det er et element i en liste og kan være hva som helst. Hvis listen inneholder en bestemt type data bruker jeg gjerne et navn som gjør det enda tydeligere."
   ]
  },
  {
   "cell_type": "code",
   "execution_count": 5,
   "metadata": {
    "collapsed": false
   },
   "outputs": [
    {
     "name": "stdout",
     "output_type": "stream",
     "text": [
      "Nestemann ut er Kari.\n",
      "Nestemann ut er Petter.\n",
      "Nestemann ut er Lars.\n",
      "Nestemann ut er Emma.\n"
     ]
    }
   ],
   "source": [
    "navneliste = ['Kari', 'Petter', 'Lars', 'Emma']\n",
    "for navn in navneliste:\n",
    "    print('Nestemann ut er ' + navn + '.')"
   ]
  },
  {
   "cell_type": "code",
   "execution_count": 8,
   "metadata": {
    "collapsed": false
   },
   "outputs": [
    {
     "name": "stdout",
     "output_type": "stream",
     "text": [
      "[1, 2, 3, 4]\n",
      "10\n",
      "[-2, -4, 5]\n",
      "-1\n",
      "[13, -1, -2]\n",
      "10\n",
      "[]\n",
      "0\n",
      "dette er ikke en liste\n"
     ]
    },
    {
     "ename": "TypeError",
     "evalue": "unsupported operand type(s) for +: 'int' and 'str'",
     "output_type": "error",
     "traceback": [
      "\u001b[1;31m---------------------------------------------------------------------------\u001b[0m",
      "\u001b[1;31mTypeError\u001b[0m                                 Traceback (most recent call last)",
      "\u001b[1;32m<ipython-input-8-b7dd83c58098>\u001b[0m in \u001b[0;36m<module>\u001b[1;34m()\u001b[0m\n\u001b[0;32m      2\u001b[0m \u001b[1;32mfor\u001b[0m \u001b[0melement\u001b[0m \u001b[1;32min\u001b[0m \u001b[0mlisteliste\u001b[0m\u001b[1;33m:\u001b[0m\u001b[1;33m\u001b[0m\u001b[0m\n\u001b[0;32m      3\u001b[0m     \u001b[0mprint\u001b[0m\u001b[1;33m(\u001b[0m\u001b[0melement\u001b[0m\u001b[1;33m)\u001b[0m\u001b[1;33m\u001b[0m\u001b[0m\n\u001b[1;32m----> 4\u001b[1;33m     \u001b[0mprint\u001b[0m\u001b[1;33m(\u001b[0m\u001b[0msum\u001b[0m\u001b[1;33m(\u001b[0m\u001b[0melement\u001b[0m\u001b[1;33m)\u001b[0m\u001b[1;33m)\u001b[0m\u001b[1;33m\u001b[0m\u001b[0m\n\u001b[0m",
      "\u001b[1;31mTypeError\u001b[0m: unsupported operand type(s) for +: 'int' and 'str'"
     ]
    }
   ],
   "source": [
    "listeliste = [[1, 2, 3, 4], [-2, -4, 5], [13, -1, -2], [], 'dette er ikke en liste']\n",
    "for element in listeliste:\n",
    "    print(element)\n",
    "    print(sum(element))"
   ]
  },
  {
   "cell_type": "markdown",
   "metadata": {},
   "source": [
    "Som vi ser i eksemplet over printet vi først hvert element, deretter fant vi summen av innholdet i elementet. Koden krasjet på det siste elementet, fordi metoden \"sum\" ikke kan brukes på tekst. Når vi lager en løkke er det viktig at vi passer på at det koden skal gjøre for hvert element må fungere for hvert element."
   ]
  },
  {
   "cell_type": "markdown",
   "metadata": {},
   "source": [
    "Øving: Tenk over hva som vil printes dersom følgende kommandoer kjøres. Når du har tenkt over det og skrevet ned resultatet, kjør kommandoene i en ny celle.\n",
    "> katter = ['Tiger', 'Løve', 'Felix', 'Panter', 'Gepard']\n",
    "\n",
    "> for katt in katter[2:]:\n",
    "\n",
    ">     print(katt)"
   ]
  },
  {
   "cell_type": "code",
   "execution_count": null,
   "metadata": {
    "collapsed": true
   },
   "outputs": [],
   "source": []
  },
  {
   "cell_type": "markdown",
   "metadata": {},
   "source": [
    "Øving: Tenk over hva som vil printes dersom følgende kommandoer kjøres. Når du har tenkt over det og skrevet ned resultatet, kjør kommandoene i en ny celle.\n",
    "> katter = ['Tiger', 'Løve', 'Felix', 'Panter', 'Gepard']\n",
    "\n",
    "> tekst = ''\n",
    "\n",
    "> for katt in katter:\n",
    "\n",
    ">     print(tekst)\n",
    "\n",
    ">     tekst += katt"
   ]
  },
  {
   "cell_type": "code",
   "execution_count": null,
   "metadata": {
    "collapsed": true
   },
   "outputs": [],
   "source": []
  },
  {
   "cell_type": "markdown",
   "metadata": {},
   "source": [
    "Øving: Skriv en for-løkke som printer x-verdi og funksjonsverdi for alle tallene i listen x = [-1.0, -0.9, -0.8, -0.7, -0.6, -0.5, -0.4, -0.3, -0.2, -0.1, 0.0, 0.1, 0.2, 0.3, 0.4, 0.5, 0.6, 0.7, 0.8, 0.9, 1.0] for $f(x) = \\frac{1}{2}x^2-2x+1$."
   ]
  },
  {
   "cell_type": "code",
   "execution_count": null,
   "metadata": {
    "collapsed": false
   },
   "outputs": [],
   "source": []
  },
  {
   "cell_type": "markdown",
   "metadata": {},
   "source": [
    "## While-løkker\n",
    "Disse løkkene brukes dersom vi ikke vet hvor mange ganger handlingene skal utføres, men dersom vi vet når vi vil være ferdige. Et eksempel kan være at vi vil legge sammen heltallene fra og med 1 til summen av tallene er større enn 45. Vi vet ikke helt hvor mange tall vi skal legge sammen, men vi vet når vi skal stoppe.\n",
    "\n",
    "Mønsteret er:\n",
    "> Initialiser minst en variabel\n",
    "\n",
    "> while logisk utsagn som inneholder variabelen over:\n",
    "\n",
    ">     handlinger som MÅ kunne endre verdien av variabelen"
   ]
  },
  {
   "cell_type": "markdown",
   "metadata": {},
   "source": [
    "### Uendelige løkker\n",
    "Vær forsiktig med while-løkker, de kan bli uendelige løkker dersom vi skriver dem feil. Vi kan se at Python jobber dersom den grå ringen øverst til høyre er fylt og er en grå sirkel. For det aller meste vil vårt arbeid være over på et øyeblikk eller noen sekunder. Dersom sirkelen forblir fylt i over ti sekunder kan du trykke på \"Kernel\" og velge \"Interrupt\" i menyene øverst til venstre. Prøv å kjøre noen av de tidligere kode-cellene og se at du finner den grå ringen/sirkelen og at du ser at den er fylt i et øyeblikk mens du kjører kode. Når du har sett det, sørg for at du vet hvor \"Kernel\" og \"Interrupt\" er. Deretter kan du kjøre koden i cellen under. Denne koden er en uendelig løkke, og du må avbryte den selv før du kan gjøre noe annet. (Det står \"KeyboardInterrupt\" fordi man i andre varianter av Python trykker ctrl+c for å avbryte)"
   ]
  },
  {
   "cell_type": "code",
   "execution_count": 25,
   "metadata": {
    "collapsed": false,
    "scrolled": true
   },
   "outputs": [
    {
     "ename": "KeyboardInterrupt",
     "evalue": "",
     "output_type": "error",
     "traceback": [
      "\u001b[1;31m---------------------------------------------------------------------------\u001b[0m",
      "\u001b[1;31mKeyboardInterrupt\u001b[0m                         Traceback (most recent call last)",
      "\u001b[1;32m<ipython-input-25-e1941ef82921>\u001b[0m in \u001b[0;36m<module>\u001b[1;34m()\u001b[0m\n\u001b[0;32m      1\u001b[0m \u001b[1;32mwhile\u001b[0m \u001b[1;32mTrue\u001b[0m\u001b[1;33m:\u001b[0m\u001b[1;33m\u001b[0m\u001b[0m\n\u001b[1;32m----> 2\u001b[1;33m     \u001b[1;36m1\u001b[0m\u001b[1;33m+\u001b[0m\u001b[1;36m1\u001b[0m\u001b[1;33m\u001b[0m\u001b[0m\n\u001b[0m",
      "\u001b[1;31mKeyboardInterrupt\u001b[0m: "
     ]
    }
   ],
   "source": [
    "a = 3\n",
    "while a > 0:\n",
    "    1+1"
   ]
  },
  {
   "cell_type": "markdown",
   "metadata": {},
   "source": [
    "Nå som du vet hvor nødstopp-knappen er kan vi se videre på løkkene. Under er et eksempel der du kan se at vi initialiserer en variabel, bruker den i et logisk utsagn, og modifiserer den i koden i innrykket."
   ]
  },
  {
   "cell_type": "code",
   "execution_count": 25,
   "metadata": {
    "collapsed": false
   },
   "outputs": [
    {
     "name": "stdout",
     "output_type": "stream",
     "text": [
      "3\n",
      "4\n",
      "5\n",
      "6\n",
      "7\n",
      "8\n"
     ]
    }
   ],
   "source": [
    "tall = 3\n",
    "while tall < 9:\n",
    "    print(tall)\n",
    "    tall += 1"
   ]
  },
  {
   "cell_type": "markdown",
   "metadata": {},
   "source": [
    "Hvorfor ble ikke tallet 9 printet av koden over? Koden skulle jo kjøre så lenge \"tall\" var mindre enn 9. Skriv ned hver handling som blir utført, så ser du nok hvorfor det er riktig at tallet 9 ikke blir printet.\n",
    "\n",
    "Under kommer et nytt eksempel. Denne koden skal summere heltallene fra og med 1 til summen er større enn 45. Deretter skal det siste tallet som ble lagt til og den endelige summen printes."
   ]
  },
  {
   "cell_type": "code",
   "execution_count": 3,
   "metadata": {
    "collapsed": false
   },
   "outputs": [
    {
     "name": "stdout",
     "output_type": "stream",
     "text": [
      "10 45\n"
     ]
    }
   ],
   "source": [
    "summen = 0\n",
    "tallet = 1\n",
    "while summen < 45:\n",
    "    summen += tallet\n",
    "    tallet += 1\n",
    "print(tallet, summen)"
   ]
  },
  {
   "cell_type": "markdown",
   "metadata": {},
   "source": [
    "Sjekk koden over ved å legge sammen tallene fra og med 1 selv. Du bør oppdage 2 feil i koden over.\n",
    "\n",
    "Den ene feilen er at her ble summen lik 45, og det er ikke over 45, slik oppgaven krevde. Her er problemet at kravet er stilt feil. Under er en versjon av programmet der denne feilen er rettet opp. Se om du kan finne den andre feilen, den er ennå igjen i koden under."
   ]
  },
  {
   "cell_type": "code",
   "execution_count": 4,
   "metadata": {
    "collapsed": false
   },
   "outputs": [
    {
     "name": "stdout",
     "output_type": "stream",
     "text": [
      "11 55\n"
     ]
    }
   ],
   "source": [
    "summen = 0\n",
    "tallet = 1\n",
    "while summen <= 45:\n",
    "    summen += tallet\n",
    "    tallet += 1\n",
    "print(tallet, summen)"
   ]
  },
  {
   "cell_type": "markdown",
   "metadata": {
    "collapsed": true
   },
   "source": [
    "Tallet 11 var ikke det siste tallet som ble lagt til, 10 er det siste som ble lagt til. Her er problemet rekkefølgen for handlingene som utføres. Under er en riktig versjon av programmet. Pass på at du oppdager alle endringene fra versjonen over."
   ]
  },
  {
   "cell_type": "code",
   "execution_count": 5,
   "metadata": {
    "collapsed": false
   },
   "outputs": [
    {
     "name": "stdout",
     "output_type": "stream",
     "text": [
      "10 55\n"
     ]
    }
   ],
   "source": [
    "summen = 0\n",
    "tallet = 0\n",
    "while summen <= 45:\n",
    "    tallet += 1\n",
    "    summen += tallet\n",
    "print(tallet, summen)"
   ]
  },
  {
   "cell_type": "markdown",
   "metadata": {
    "collapsed": true
   },
   "source": [
    "While-løkker brukes som sagt når vi vet hvilke handlinger vi vil gjenta men ikke hvor mange ganger vi ønsker at handlingene skal gjentas. La oss si at vi vil generere og printe tilfeldige tall mellom 0 og 10 helt til 7 av tallene er større enn 5. Vi ønsker også å summere tallene. Prøv å kjøre koden flere ganger og se at resultatet er forskjellig fra gang til gang."
   ]
  },
  {
   "cell_type": "code",
   "execution_count": 24,
   "metadata": {
    "collapsed": false
   },
   "outputs": [
    {
     "name": "stdout",
     "output_type": "stream",
     "text": [
      "9\n",
      "9\n",
      "0\n",
      "10\n",
      "0\n",
      "10\n",
      "3\n",
      "9\n",
      "3\n",
      "4\n",
      "0\n",
      "5\n",
      "1\n",
      "10\n",
      "14 6 73\n"
     ]
    }
   ],
   "source": [
    "import random\n",
    "\n",
    "summen = 0\n",
    "antall = 0\n",
    "antallstoretall = 0\n",
    "while antallstoretall <= 5:\n",
    "    tallet = random.randint(0, 10)\n",
    "    print(tallet)\n",
    "    antall += 1\n",
    "    summen += tallet\n",
    "    if tallet > 5:\n",
    "        antallstoretall += 1\n",
    "\n",
    "print(antall, antallstoretall, summen)"
   ]
  },
  {
   "cell_type": "markdown",
   "metadata": {},
   "source": [
    "Øving: Tenk over hva som vil printes dersom følgende kommandoer kjøres. Når du har tenkt over det og skrevet ned resultatet, kjør kommandoene i en ny celle.\n",
    "> tallet = 15\n",
    "\n",
    "> while tallet > 1:\n",
    "\n",
    ">     print(tallet)\n",
    "\n",
    ">     tallet /= 3"
   ]
  },
  {
   "cell_type": "code",
   "execution_count": null,
   "metadata": {
    "collapsed": false
   },
   "outputs": [],
   "source": []
  },
  {
   "cell_type": "markdown",
   "metadata": {
    "collapsed": true
   },
   "source": [
    "Øving: Skriv en kodebit som setter verdien av en variabel til en positiv verdi du velger selv. Deretter skal du ha en while-løkke som som printer tallet, deler det på 2 og legger til 5. Når verdien av tallet er mindre enn 19 skal løkken stoppe. Avslutt med print('Nå er du ute av løkken.')"
   ]
  },
  {
   "cell_type": "code",
   "execution_count": null,
   "metadata": {
    "collapsed": false
   },
   "outputs": [],
   "source": []
  },
  {
   "cell_type": "markdown",
   "metadata": {},
   "source": [
    "Øving: I forrige øving var 19 grensen for når løkken skulle stoppe. Ved hvilken verdi ville vi fått en uendelig loop?"
   ]
  },
  {
   "cell_type": "markdown",
   "metadata": {},
   "source": [
    "Øving: I koden under er det en feil som gjør at while-løkken aldri vil kunne stoppe. Finn feilen og en måte å fikse den på. Tenk nøye over løsningen din før du kjører koden for å sjekke om du hindret en uendelig loop i å oppstå.\n",
    ">     tall = 15\n",
    ">     while tall >= 1:\n",
    ">         tall - 1"
   ]
  },
  {
   "cell_type": "code",
   "execution_count": null,
   "metadata": {
    "collapsed": true
   },
   "outputs": [],
   "source": []
  },
  {
   "cell_type": "markdown",
   "metadata": {},
   "source": [
    "# Viktig anvendelse av løkker: Generer lister\n",
    "Vi kan generere lister ved å bruke løkker. Vi kan f.eks. generere y-verdiene til ulike x-verdier slik at de senere kan plottes. I en tidligere øving ble du bedt om å printe x-verdi og funksjonsverdi for x = [-1.0, -0.9, -0.8, -0.7, -0.6, -0.5, -0.4, -0.3, -0.2, -0.1, 0.0, 0.1, 0.2, 0.3, 0.4, 0.5, 0.6, 0.7, 0.8, 0.9, 1.0] og $f(x) = \\frac{1}{2}x^2-2x+1$. Da ble funksjonsverdiene bare printet på skjermen og deretter ble de borte. Hvis vi skal bruke dem til noe må vi lagre funksjonsverdiene, og en egnet måte å gjøre dette er å lagre dem i lister. Se eksempel i koden under."
   ]
  },
  {
   "cell_type": "code",
   "execution_count": 36,
   "metadata": {
    "collapsed": false
   },
   "outputs": [
    {
     "name": "stdout",
     "output_type": "stream",
     "text": [
      "[-1.0, -0.9, -0.8, -0.7, -0.6, -0.5, -0.4, -0.3, -0.2, -0.1, 0.0, 0.1, 0.2, 0.3, 0.4, 0.5, 0.6, 0.7, 0.8, 0.9, 1.0]\n",
      "[3.5, 3.205, 2.92, 2.6449999999999996, 2.38, 2.125, 1.8800000000000001, 1.645, 1.42, 1.205, 1.0, 0.8049999999999999, 0.62, 0.44500000000000006, 0.28, 0.125, -0.020000000000000018, -0.15500000000000003, -0.28, -0.395, -0.5]\n"
     ]
    }
   ],
   "source": [
    "import math\n",
    "\n",
    "xverdier = [-1.0, -0.9, -0.8, -0.7, -0.6, -0.5, -0.4, -0.3, -0.2, -0.1, 0.0, 0.1, 0.2, 0.3, 0.4, 0.5, 0.6, 0.7, 0.8, 0.9, 1.0]\n",
    "yverdier = []\n",
    "for x in xverdier:\n",
    "    y = 0.5*x**2 - 2*x + 1\n",
    "    yverdier.append(y)\n",
    "print(xverdier)\n",
    "print(yverdier)"
   ]
  },
  {
   "cell_type": "markdown",
   "metadata": {},
   "source": [
    "Legg merke til at vi måtte initialisere listen yverdier (dvs. opprette en tom liste med det navnet) FØR løkken for å kunne bruke den i løkken.\n",
    "\n",
    "Koden over er ok, men kunne vært enklere. Legg merke til forskjellen på koden over og koden under."
   ]
  },
  {
   "cell_type": "code",
   "execution_count": 37,
   "metadata": {
    "collapsed": false
   },
   "outputs": [
    {
     "name": "stdout",
     "output_type": "stream",
     "text": [
      "[-1.0, -0.9, -0.8, -0.7, -0.6, -0.5, -0.4, -0.3, -0.2, -0.1, 0.0, 0.1, 0.2, 0.3, 0.4, 0.5, 0.6, 0.7, 0.8, 0.9, 1.0]\n",
      "[3.5, 3.205, 2.92, 2.6449999999999996, 2.38, 2.125, 1.8800000000000001, 1.645, 1.42, 1.205, 1.0, 0.8049999999999999, 0.62, 0.44500000000000006, 0.28, 0.125, -0.020000000000000018, -0.15500000000000003, -0.28, -0.395, -0.5]\n"
     ]
    }
   ],
   "source": [
    "import math\n",
    "\n",
    "xverdier = [-1.0, -0.9, -0.8, -0.7, -0.6, -0.5, -0.4, -0.3, -0.2, -0.1, 0.0, 0.1, 0.2, 0.3, 0.4, 0.5, 0.6, 0.7, 0.8, 0.9, 1.0]\n",
    "yverdier = []\n",
    "for x in xverdier:\n",
    "    yverdier.append(0.5*x**2 - 2*x + 1)\n",
    "print(xverdier)\n",
    "print(yverdier)"
   ]
  },
  {
   "cell_type": "markdown",
   "metadata": {},
   "source": [
    "Øving: Tenk over hva som vil printes dersom følgende kommandoer kjøres. Når du har tenkt over det og skrevet ned resultatet, kjør kommandoene i en ny celle.\n",
    "> x = []\n",
    "\n",
    "> y = []\n",
    "\n",
    "> for i in range(-5, 6):\n",
    "\n",
    ">     x.append(i)\n",
    "\n",
    ">     y.append(i**2-1)\n",
    "\n",
    "> print(x)\n",
    "\n",
    "> print(y)"
   ]
  },
  {
   "cell_type": "code",
   "execution_count": null,
   "metadata": {
    "collapsed": true
   },
   "outputs": [],
   "source": []
  },
  {
   "cell_type": "markdown",
   "metadata": {},
   "source": [
    "Øving: Skriv en for-løkke som lager en liste over alle funksjonsverdiene for alle tallene i listen t = [0, 0.05, 0.1, 0.15, 0.2, 0.25, 0.3, 0.35, 0.40, 0.45, 0.5, 0.55, 0.6, 0.65, 0.70, 0.75, 0.8, 0.85, 0.9, 0.95, 1] for $f(t) = \\sqrt3\\sin(\\frac{2\\pi}{5}t)$. Når listen med funksjonsverdiene er laget skal den printes. (Altså bare én print, helt til slutt)\n",
    "\n",
    "For denne og neste oppgave, se tidligere eksempel der en liste x og en liste y fylles opp ved å iterere gjennom en løkke."
   ]
  },
  {
   "cell_type": "code",
   "execution_count": null,
   "metadata": {
    "collapsed": false
   },
   "outputs": [],
   "source": []
  },
  {
   "cell_type": "markdown",
   "metadata": {},
   "source": [
    "Øving: Skriv en for-løkke som lager en liste over alle funksjonsverdiene for alle tallene i listen t = [0, 0.05, 0.1, 0.15, 0.2, 0.25, 0.3, 0.35, 0.40, 0.45, 0.5, 0.55, 0.6, 0.65, 0.70, 0.75, 0.8, 0.85, 0.9, 0.95, 1] for $f(t) = \\sqrt3\\sin(\\frac{2\\pi}{5}t)$. Etter at listen med funksjonsverdiene er laget skal hvert par med verdier (en t-verdi og en funksjonsverdi) printes sammen. (Altså en ny løkke etter den første)"
   ]
  },
  {
   "cell_type": "code",
   "execution_count": null,
   "metadata": {
    "collapsed": true
   },
   "outputs": [],
   "source": []
  },
  {
   "cell_type": "markdown",
   "metadata": {},
   "source": [
    "# Ekstra materiale"
   ]
  },
  {
   "cell_type": "code",
   "execution_count": 3,
   "metadata": {
    "collapsed": false
   },
   "outputs": [
    {
     "ename": "SyntaxError",
     "evalue": "invalid syntax (<ipython-input-3-e3693e5eba4d>, line 1)",
     "output_type": "error",
     "traceback": [
      "\u001b[1;36m  File \u001b[1;32m\"<ipython-input-3-e3693e5eba4d>\"\u001b[1;36m, line \u001b[1;32m1\u001b[0m\n\u001b[1;33m    generere en liste med list comprehension der for-løkken står inne i rammene [2*x for x in range(12) if x%3 != 1]\u001b[0m\n\u001b[1;37m              ^\u001b[0m\n\u001b[1;31mSyntaxError\u001b[0m\u001b[1;31m:\u001b[0m invalid syntax\n"
     ]
    }
   ],
   "source": [
    "generere en liste med list comprehension der for-løkken står inne i rammene [2*x for x in range(12) if x%3 != 1]"
   ]
  },
  {
   "cell_type": "code",
   "execution_count": null,
   "metadata": {
    "collapsed": false
   },
   "outputs": [],
   "source": [
    "nested for-loops, eller for inne i en while"
   ]
  },
  {
   "cell_type": "code",
   "execution_count": null,
   "metadata": {
    "collapsed": false
   },
   "outputs": [],
   "source": []
  }
 ],
 "metadata": {
  "anaconda-cloud": {},
  "kernelspec": {
   "display_name": "Python [Root]",
   "language": "python",
   "name": "Python [Root]"
  },
  "language_info": {
   "codemirror_mode": {
    "name": "ipython",
    "version": 3
   },
   "file_extension": ".py",
   "mimetype": "text/x-python",
   "name": "python",
   "nbconvert_exporter": "python",
   "pygments_lexer": "ipython3",
   "version": "3.5.1"
  }
 },
 "nbformat": 4,
 "nbformat_minor": 0
}
